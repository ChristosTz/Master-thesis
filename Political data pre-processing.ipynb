{
 "cells": [
  {
   "cell_type": "code",
   "execution_count": 7,
   "id": "ab7da2a7",
   "metadata": {},
   "outputs": [],
   "source": [
    "import numpy as np\n",
    "import pandas as pd\n",
    "import matplotlib.pyplot as plt\n",
    "import seaborn as sns\n",
    "import nltk\n",
    "from sklearn.ensemble import ExtraTreesClassifier\n",
    "from sklearn.datasets import load_iris\n",
    "from sklearn.feature_selection import SelectFromModel\n",
    "from sklearn.preprocessing import StandardScaler\n",
    "from sklearn.model_selection import train_test_split\n",
    "from sklearn.ensemble import ExtraTreesClassifier\n",
    "from sklearn.datasets import load_iris\n",
    "from sklearn.feature_selection import SelectFromModel\n",
    "from statsmodels.stats.outliers_influence import variance_inflation_factor\n",
    "from sklearn.feature_selection import SelectKBest, SelectPercentile, mutual_info_classif\n",
    "from sklearn.model_selection import StratifiedKFold\n",
    "from sklearn.model_selection import RepeatedStratifiedKFold\n",
    "\n",
    "from sklearn.model_selection import GridSearchCV\n",
    "from sklearn.neighbors import KNeighborsClassifier\n",
    "from sklearn.metrics import confusion_matrix,accuracy_score,classification_report\n",
    "from sklearn.neighbors import KNeighborsClassifier\n",
    "from sklearn import svm\n",
    "from sklearn.svm import SVC\n",
    "from sklearn.ensemble import RandomForestClassifier\n",
    "from vaderSentiment.vaderSentiment import SentimentIntensityAnalyzer"
   ]
  },
  {
   "cell_type": "code",
   "execution_count": 8,
   "id": "67efb0ce",
   "metadata": {},
   "outputs": [],
   "source": [
    "fake = pd.read_csv('C:\\\\Users\\\\xrist\\\\Desktop\\\\Thesis\\\\datasets\\\\political news\\\\politifact_fake.csv')\n",
    "true = pd.read_csv('C:\\\\Users\\\\xrist\\\\Desktop\\\\Thesis\\\\datasets\\\\political news\\\\politifact_real.csv')\n",
    "\n",
    "fake['label'] = 1\n",
    "true['label'] = 0\n",
    "\n",
    "politic = pd.concat([true,fake]).reset_index(drop=True)"
   ]
  },
  {
   "cell_type": "code",
   "execution_count": 9,
   "id": "e8493f27",
   "metadata": {},
   "outputs": [],
   "source": [
    "poltic = politic.drop(['id', 'news_url', 'tweet_ids'], axis=1)"
   ]
  },
  {
   "cell_type": "code",
   "execution_count": 10,
   "id": "24adda8e",
   "metadata": {},
   "outputs": [
    {
     "data": {
      "text/plain": [
       "(1056, 2)"
      ]
     },
     "execution_count": 10,
     "metadata": {},
     "output_type": "execute_result"
    }
   ],
   "source": [
    "poltic.shape"
   ]
  },
  {
   "cell_type": "code",
   "execution_count": 4,
   "id": "e22bb75a",
   "metadata": {},
   "outputs": [
    {
     "name": "stdout",
     "output_type": "stream",
     "text": [
      "Requirement already satisfied: truecase in c:\\users\\xrist\\anaconda3\\lib\\site-packages (0.0.14)\n",
      "Requirement already satisfied: nltk in c:\\users\\xrist\\anaconda3\\lib\\site-packages (from truecase) (3.7)\n",
      "Requirement already satisfied: regex>=2021.8.3 in c:\\users\\xrist\\anaconda3\\lib\\site-packages (from nltk->truecase) (2022.7.9)\n",
      "Requirement already satisfied: tqdm in c:\\users\\xrist\\anaconda3\\lib\\site-packages (from nltk->truecase) (4.64.1)\n",
      "Requirement already satisfied: click in c:\\users\\xrist\\anaconda3\\lib\\site-packages (from nltk->truecase) (8.0.4)\n",
      "Requirement already satisfied: joblib in c:\\users\\xrist\\anaconda3\\lib\\site-packages (from nltk->truecase) (1.1.0)\n",
      "Requirement already satisfied: colorama in c:\\users\\xrist\\anaconda3\\lib\\site-packages (from click->nltk->truecase) (0.4.5)\n"
     ]
    },
    {
     "ename": "NameError",
     "evalue": "name 'gossip' is not defined",
     "output_type": "error",
     "traceback": [
      "\u001b[1;31m---------------------------------------------------------------------------\u001b[0m",
      "\u001b[1;31mNameError\u001b[0m                                 Traceback (most recent call last)",
      "Input \u001b[1;32mIn [4]\u001b[0m, in \u001b[0;36m<cell line: 4>\u001b[1;34m()\u001b[0m\n\u001b[0;32m      2\u001b[0m \u001b[38;5;28;01mimport\u001b[39;00m \u001b[38;5;21;01mtruecase\u001b[39;00m\n\u001b[0;32m      3\u001b[0m \u001b[38;5;66;03m#Make the capitalisation nice\u001b[39;00m\n\u001b[1;32m----> 4\u001b[0m gossip[\u001b[38;5;124m'\u001b[39m\u001b[38;5;124mtitle\u001b[39m\u001b[38;5;124m'\u001b[39m] \u001b[38;5;241m=\u001b[39m \u001b[43mgossip\u001b[49m[\u001b[38;5;124m'\u001b[39m\u001b[38;5;124mtitle\u001b[39m\u001b[38;5;124m'\u001b[39m]\u001b[38;5;241m.\u001b[39mapply(\u001b[38;5;28;01mlambda\u001b[39;00m x:truecase\u001b[38;5;241m.\u001b[39mget_true_case(x))\n",
      "\u001b[1;31mNameError\u001b[0m: name 'gossip' is not defined"
     ]
    }
   ],
   "source": [
    "!pip install truecase\n",
    "import truecase\n",
    "#Make the capitalisation nice\n",
    "gossip['title'] = gossip['title'].apply(lambda x:truecase.get_true_case(x))"
   ]
  },
  {
   "cell_type": "code",
   "execution_count": 5,
   "id": "ffbd2cbd",
   "metadata": {},
   "outputs": [],
   "source": [
    "def count_pos_tags(column, tag):\n",
    "    from nltk import word_tokenize, pos_tag\n",
    "    lst = []\n",
    "    for idx,x in enumerate(column):\n",
    "        lst.append(sum(1 for word, pos in pos_tag(word_tokenize(x)) if pos.startswith(tag)))\n",
    "    return lst"
   ]
  },
  {
   "cell_type": "code",
   "execution_count": 6,
   "id": "efa24b1a",
   "metadata": {},
   "outputs": [],
   "source": [
    "vcount = count_pos_tags(politic.title, 'VB')\n",
    "politic['verb_count'] = vcount"
   ]
  },
  {
   "cell_type": "code",
   "execution_count": 7,
   "id": "dd369ce4",
   "metadata": {},
   "outputs": [],
   "source": [
    "#Number of proper nouns\n",
    "pncount = count_pos_tags(politic.title, 'NNP')\n",
    "politic['proper_noun_count'] = pncount"
   ]
  },
  {
   "cell_type": "code",
   "execution_count": 8,
   "id": "3152de26",
   "metadata": {},
   "outputs": [],
   "source": [
    "#Number of total nouns (including proper_nouns)\n",
    "ncount = count_pos_tags(politic.title, 'NN')\n",
    "\n",
    "#Number of nouns\n",
    "nouns = abs(np.subtract(np.array(pncount), np.array(ncount)))\n",
    "politic['noun_count'] = nouns"
   ]
  },
  {
   "cell_type": "code",
   "execution_count": 9,
   "id": "7a617a10",
   "metadata": {},
   "outputs": [],
   "source": [
    "#Number of adjectives\n",
    "jcount = count_pos_tags(politic.title, 'JJ')\n",
    "politic['adjective_count'] = jcount\n",
    "\n",
    "#Number of adverbs\n",
    "acount = count_pos_tags(politic.title, 'RB')\n",
    "politic['adverb_count'] = acount\n",
    "\n"
   ]
  },
  {
   "cell_type": "code",
   "execution_count": 10,
   "id": "8a6ec243",
   "metadata": {},
   "outputs": [],
   "source": [
    "#emotiveness\n",
    "politic['emotiveness'] = (politic['adjective_count']+ politic['adverb_count']) / (politic['noun_count'] + politic['verb_count'])"
   ]
  },
  {
   "cell_type": "code",
   "execution_count": 11,
   "id": "97ff9401",
   "metadata": {},
   "outputs": [
    {
     "name": "stdout",
     "output_type": "stream",
     "text": [
      "Requirement already satisfied: vaderSentiment in c:\\users\\xrist\\anaconda3\\lib\\site-packages (3.3.2)\n",
      "Requirement already satisfied: requests in c:\\users\\xrist\\anaconda3\\lib\\site-packages (from vaderSentiment) (2.28.1)\n",
      "Requirement already satisfied: urllib3<1.27,>=1.21.1 in c:\\users\\xrist\\anaconda3\\lib\\site-packages (from requests->vaderSentiment) (1.26.11)\n",
      "Requirement already satisfied: certifi>=2017.4.17 in c:\\users\\xrist\\anaconda3\\lib\\site-packages (from requests->vaderSentiment) (2022.9.24)\n",
      "Requirement already satisfied: idna<4,>=2.5 in c:\\users\\xrist\\anaconda3\\lib\\site-packages (from requests->vaderSentiment) (3.3)\n",
      "Requirement already satisfied: charset-normalizer<3,>=2 in c:\\users\\xrist\\anaconda3\\lib\\site-packages (from requests->vaderSentiment) (2.0.4)\n"
     ]
    }
   ],
   "source": [
    "!pip install vaderSentiment\n",
    "SA = SentimentIntensityAnalyzer()"
   ]
  },
  {
   "cell_type": "code",
   "execution_count": 13,
   "id": "38525a8c",
   "metadata": {},
   "outputs": [],
   "source": [
    "\n",
    "#Sentiment analysis\n",
    "sa = []\n",
    "for idx,x in enumerate(politic['title']):\n",
    "    sa.append(SA.polarity_scores(x))\n",
    "    \n",
    "    \n",
    "negative = pd.DataFrame([d['neg'] for d in sa])\n",
    "positive = pd.DataFrame([d['pos'] for d in sa])\n",
    "neutral = pd.DataFrame([d['neu'] for d in sa])\n",
    "compound = pd.DataFrame([d['compound'] for d in sa])\n",
    "#Attach sentiment labels\n",
    "politic['compound'] = compound\n",
    "politic['positive'] = positive\n",
    "politic['negative'] = negative\n",
    "politic['neutral'] = neutral"
   ]
  },
  {
   "cell_type": "code",
   "execution_count": 15,
   "id": "92421df6",
   "metadata": {},
   "outputs": [],
   "source": [
    "pol = politic.loc[:,['verb_count','proper_noun_count', 'emotiveness', 'compound', 'neutral', 'label']]"
   ]
  },
  {
   "cell_type": "code",
   "execution_count": 18,
   "id": "a2266300",
   "metadata": {},
   "outputs": [
    {
     "data": {
      "text/plain": [
       "Int64Index([   0,    4,   13,   14,   20,   27,   28,   31,   40,   44,\n",
       "            ...\n",
       "            1020, 1022, 1025, 1027, 1034, 1039, 1041, 1042, 1045, 1053],\n",
       "           dtype='int64', length=201)"
      ]
     },
     "execution_count": 18,
     "metadata": {},
     "output_type": "execute_result"
    }
   ],
   "source": [
    "pol.loc[pd.isna(pol).any(1), :].index"
   ]
  },
  {
   "cell_type": "code",
   "execution_count": 19,
   "id": "ee290593",
   "metadata": {},
   "outputs": [
    {
     "data": {
      "text/plain": [
       "Int64Index([], dtype='int64')"
      ]
     },
     "execution_count": 19,
     "metadata": {},
     "output_type": "execute_result"
    }
   ],
   "source": [
    "pol.replace([np.inf, -np.inf], np.nan, inplace=True)\n",
    "\n",
    "nan = pol.loc[pd.isna(pol).any(1), :].index\n",
    "\n",
    "for x in nan:\n",
    "    pol = pol.drop(index = x, axis = 1)\n",
    "    \n",
    "pol.loc[pd.isna(pol).any(1), :].index"
   ]
  },
  {
   "cell_type": "code",
   "execution_count": 21,
   "id": "6681d687",
   "metadata": {},
   "outputs": [],
   "source": [
    "pol.to_csv(\"political news for cv\", index = False)"
   ]
  },
  {
   "cell_type": "code",
   "execution_count": 5,
   "id": "9ad3cb69",
   "metadata": {},
   "outputs": [],
   "source": [
    "df = pd.read_csv(\"political news for cv\")"
   ]
  },
  {
   "cell_type": "code",
   "execution_count": 6,
   "id": "c6e0fd2f",
   "metadata": {},
   "outputs": [
    {
     "data": {
      "text/plain": [
       "(810, 6)"
      ]
     },
     "execution_count": 6,
     "metadata": {},
     "output_type": "execute_result"
    }
   ],
   "source": [
    "df.shape"
   ]
  },
  {
   "cell_type": "code",
   "execution_count": null,
   "id": "1fb9e63e",
   "metadata": {},
   "outputs": [],
   "source": []
  }
 ],
 "metadata": {
  "kernelspec": {
   "display_name": "Python 3 (ipykernel)",
   "language": "python",
   "name": "python3"
  },
  "language_info": {
   "codemirror_mode": {
    "name": "ipython",
    "version": 3
   },
   "file_extension": ".py",
   "mimetype": "text/x-python",
   "name": "python",
   "nbconvert_exporter": "python",
   "pygments_lexer": "ipython3",
   "version": "3.9.13"
  }
 },
 "nbformat": 4,
 "nbformat_minor": 5
}
