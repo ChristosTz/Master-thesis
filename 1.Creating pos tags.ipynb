{
 "cells": [
  {
   "cell_type": "code",
   "execution_count": 2,
   "id": "0c38de6b",
   "metadata": {},
   "outputs": [],
   "source": [
    "import pandas as pd\n",
    "import numpy as np"
   ]
  },
  {
   "cell_type": "code",
   "execution_count": 3,
   "id": "0bad07d7",
   "metadata": {},
   "outputs": [],
   "source": [
    "#load true dataset\n",
    "true = pd.read_csv('C:\\\\Users\\\\xrist\\\\Desktop\\\\Thesis\\\\datasets\\\\train-fit dataset\\\\general news\\\\True.csv')\n",
    "fake = pd.read_csv('C:\\\\Users\\\\xrist\\\\Desktop\\\\Thesis\\\\datasets\\\\train-fit dataset\\\\general news\\\\Fake.csv')"
   ]
  },
  {
   "cell_type": "code",
   "execution_count": 4,
   "id": "29637a04",
   "metadata": {},
   "outputs": [],
   "source": [
    "#Create the label for fake and true news\n",
    "true['label'] = 0\n",
    "fake['label'] = 1"
   ]
  },
  {
   "cell_type": "code",
   "execution_count": 5,
   "id": "74ebe075",
   "metadata": {},
   "outputs": [],
   "source": [
    "#Keep the relevenat columns\n",
    "true_fit = true[['title', 'label']]\n",
    "fake_fit = fake[['title', 'label']]"
   ]
  },
  {
   "cell_type": "code",
   "execution_count": 6,
   "id": "54a75782",
   "metadata": {},
   "outputs": [],
   "source": [
    "#Join the 2 datasets to create the learning set\n",
    "fit_mix  = pd.concat([true_fit,fake_fit]).reset_index(drop=True)"
   ]
  },
  {
   "cell_type": "code",
   "execution_count": 7,
   "id": "33635e63",
   "metadata": {},
   "outputs": [],
   "source": [
    "fitmix2 = fit_mix"
   ]
  },
  {
   "cell_type": "code",
   "execution_count": 8,
   "id": "eff92cdc",
   "metadata": {},
   "outputs": [],
   "source": [
    "#!pip install contractions\n",
    "#import contractions\n",
    "#fit_mix['title'] =fit_mix['title'].apply(lambda x:contractions.fix(x))"
   ]
  },
  {
   "cell_type": "code",
   "execution_count": 11,
   "id": "70a389b4",
   "metadata": {},
   "outputs": [
    {
     "name": "stderr",
     "output_type": "stream",
     "text": [
      "ERROR: Could not find a version that satisfies the requirement ntlk (from versions: none)\n",
      "ERROR: No matching distribution found for ntlk\n",
      "Usage: nltk [OPTIONS] COMMAND [ARGS]...\n",
      "Try 'nltk -h' for help.\n",
      "\n",
      "Error: No such command 'download()'.\n"
     ]
    }
   ],
   "source": [
    "!pip install ntlk\n",
    "!nltk download()"
   ]
  },
  {
   "cell_type": "code",
   "execution_count": 12,
   "id": "e39e67ec",
   "metadata": {},
   "outputs": [
    {
     "name": "stdout",
     "output_type": "stream",
     "text": [
      "Requirement already satisfied: truecase in c:\\users\\xrist\\anaconda3\\lib\\site-packages (0.0.14)\n",
      "Requirement already satisfied: nltk in c:\\users\\xrist\\anaconda3\\lib\\site-packages (from truecase) (3.7)\n",
      "Requirement already satisfied: regex>=2021.8.3 in c:\\users\\xrist\\anaconda3\\lib\\site-packages (from nltk->truecase) (2022.7.9)\n",
      "Requirement already satisfied: click in c:\\users\\xrist\\anaconda3\\lib\\site-packages (from nltk->truecase) (8.0.4)\n",
      "Requirement already satisfied: joblib in c:\\users\\xrist\\anaconda3\\lib\\site-packages (from nltk->truecase) (1.1.0)\n",
      "Requirement already satisfied: tqdm in c:\\users\\xrist\\anaconda3\\lib\\site-packages (from nltk->truecase) (4.64.1)\n",
      "Requirement already satisfied: colorama in c:\\users\\xrist\\anaconda3\\lib\\site-packages (from click->nltk->truecase) (0.4.5)\n",
      "Note: you may need to restart the kernel to use updated packages.\n"
     ]
    }
   ],
   "source": [
    "pip install truecase\n"
   ]
  },
  {
   "cell_type": "code",
   "execution_count": 13,
   "id": "eb8164a4",
   "metadata": {},
   "outputs": [],
   "source": [
    "\n",
    "import truecase\n",
    "#Make the capitalisation nice\n",
    "fitmix2['title'] = fitmix2['title'].apply(lambda x:truecase.get_true_case(x))"
   ]
  },
  {
   "cell_type": "code",
   "execution_count": 15,
   "id": "d188ad33",
   "metadata": {},
   "outputs": [
    {
     "data": {
      "text/plain": [
       "'Exclusive: U.S. envoys told to be coy on Re-Engaging in Paris climate deal - Cable'"
      ]
     },
     "execution_count": 15,
     "metadata": {},
     "output_type": "execute_result"
    }
   ],
   "source": [
    "fitmix2.iloc[2267,0]"
   ]
  },
  {
   "cell_type": "code",
   "execution_count": 25,
   "id": "52350860",
   "metadata": {},
   "outputs": [],
   "source": [
    "#Tokenisation\n",
    "from nltk.tokenize import word_tokenize\n",
    "token_data = fitmix2['title'].apply(lambda x:word_tokenize(x))\n",
    "fitmix2['token_data'] = token_data"
   ]
  },
  {
   "cell_type": "code",
   "execution_count": null,
   "id": "ed93e30c",
   "metadata": {},
   "outputs": [],
   "source": [
    "fitmix2['token_data'] = token_data"
   ]
  },
  {
   "cell_type": "code",
   "execution_count": 27,
   "id": "839c2802",
   "metadata": {},
   "outputs": [
    {
     "data": {
      "text/plain": [
       "0        [(As, IN), (U.S., NNP), (budget, NN), (fight, ...\n",
       "1        [(U.s., JJ), (military, JJ), (to, TO), (accept...\n",
       "2        [(Senior, JJ), (U.S., NNP), (Republican, NNP),...\n",
       "3        [(Fbi, NNP), (Russia, NNP), (probe, NN), (help...\n",
       "4        [(Trump, NN), (wants, VBZ), (postal, JJ), (ser...\n",
       "                               ...                        \n",
       "44893    [(Mcpain, NN), (:, :), (John, NNP), (McCain, N...\n",
       "44894    [(Justice, NNP), (?, .), (Yahoo, NNP), (settle...\n",
       "44895    [(Sunnistan, NN), (:, :), (us, PRP), (and, CC)...\n",
       "44896    [(How, WRB), (to, TO), (blow, VB), ($, $), (70...\n",
       "44897    [(10, CD), (U.S., NNP), (Navy, NNP), (sailors,...\n",
       "Name: token_data, Length: 44898, dtype: object"
      ]
     },
     "execution_count": 27,
     "metadata": {},
     "output_type": "execute_result"
    }
   ],
   "source": [
    "#Pos tagging\n",
    "from nltk import pos_tag\n",
    "tag = fitmix2['token_data'].apply(lambda x:pos_tag(x))\n",
    "tag"
   ]
  },
  {
   "cell_type": "code",
   "execution_count": 28,
   "id": "868b7f14",
   "metadata": {},
   "outputs": [],
   "source": [
    "fitmix2['tag'] = tag"
   ]
  },
  {
   "cell_type": "code",
   "execution_count": 29,
   "id": "a73a1c86",
   "metadata": {},
   "outputs": [
    {
     "data": {
      "text/plain": [
       "0        [(As, IN), (U.S., NNP), (budget, NN), (fight, ...\n",
       "1        [(U.s., JJ), (military, JJ), (to, TO), (accept...\n",
       "2        [(Senior, JJ), (U.S., NNP), (Republican, NNP),...\n",
       "3        [(Fbi, NNP), (Russia, NNP), (probe, NN), (help...\n",
       "4        [(Trump, NN), (wants, VBZ), (postal, JJ), (ser...\n",
       "                               ...                        \n",
       "44893    [(Mcpain, NN), (:, :), (John, NNP), (McCain, N...\n",
       "44894    [(Justice, NNP), (?, .), (Yahoo, NNP), (settle...\n",
       "44895    [(Sunnistan, NN), (:, :), (us, PRP), (and, CC)...\n",
       "44896    [(How, WRB), (to, TO), (blow, VB), ($, $), (70...\n",
       "44897    [(10, CD), (U.S., NNP), (Navy, NNP), (sailors,...\n",
       "Name: tag, Length: 44898, dtype: object"
      ]
     },
     "execution_count": 29,
     "metadata": {},
     "output_type": "execute_result"
    }
   ],
   "source": [
    "fitmix2['tag']"
   ]
  },
  {
   "cell_type": "code",
   "execution_count": 59,
   "id": "4457805a",
   "metadata": {},
   "outputs": [],
   "source": [
    "lst = []\n",
    "for idx,x in enumerate(tag):\n",
    "    my_dict = {key: value for key, value in tag[idx]}\n",
    "    lst.append(my_dict)"
   ]
  },
  {
   "cell_type": "code",
   "execution_count": 42,
   "id": "55a0d5b1",
   "metadata": {},
   "outputs": [],
   "source": [
    "fitmix2['features'] = lst"
   ]
  },
  {
   "cell_type": "code",
   "execution_count": 43,
   "id": "9b62dbc6",
   "metadata": {},
   "outputs": [
    {
     "data": {
      "text/html": [
       "<div>\n",
       "<style scoped>\n",
       "    .dataframe tbody tr th:only-of-type {\n",
       "        vertical-align: middle;\n",
       "    }\n",
       "\n",
       "    .dataframe tbody tr th {\n",
       "        vertical-align: top;\n",
       "    }\n",
       "\n",
       "    .dataframe thead th {\n",
       "        text-align: right;\n",
       "    }\n",
       "</style>\n",
       "<table border=\"1\" class=\"dataframe\">\n",
       "  <thead>\n",
       "    <tr style=\"text-align: right;\">\n",
       "      <th></th>\n",
       "      <th>title</th>\n",
       "      <th>label</th>\n",
       "      <th>token_data</th>\n",
       "      <th>tag</th>\n",
       "      <th>features</th>\n",
       "    </tr>\n",
       "  </thead>\n",
       "  <tbody>\n",
       "    <tr>\n",
       "      <th>0</th>\n",
       "      <td>As U.S. budget fight looms, Republicans flip t...</td>\n",
       "      <td>0</td>\n",
       "      <td>[As, U.S., budget, fight, looms, ,, Republican...</td>\n",
       "      <td>[(As, IN), (U.S., NNP), (budget, NN), (fight, ...</td>\n",
       "      <td>[{'As': 'IN', 'U.S.': 'NNP', 'budget': 'NN', '...</td>\n",
       "    </tr>\n",
       "    <tr>\n",
       "      <th>1</th>\n",
       "      <td>U.s. military to accept Transgender recruits o...</td>\n",
       "      <td>0</td>\n",
       "      <td>[U.s., military, to, accept, Transgender, recr...</td>\n",
       "      <td>[(U.s., JJ), (military, JJ), (to, TO), (accept...</td>\n",
       "      <td>[{'U.s.': 'JJ', 'military': 'JJ', 'to': 'TO', ...</td>\n",
       "    </tr>\n",
       "    <tr>\n",
       "      <th>2</th>\n",
       "      <td>Senior U.S. Republican Senator: 'Let Mr. Muell...</td>\n",
       "      <td>0</td>\n",
       "      <td>[Senior, U.S., Republican, Senator, :, 'Let, M...</td>\n",
       "      <td>[(Senior, JJ), (U.S., NNP), (Republican, NNP),...</td>\n",
       "      <td>[{'Senior': 'JJ', 'U.S.': 'NNP', 'Republican':...</td>\n",
       "    </tr>\n",
       "    <tr>\n",
       "      <th>3</th>\n",
       "      <td>Fbi Russia probe helped by Australian diplomat...</td>\n",
       "      <td>0</td>\n",
       "      <td>[Fbi, Russia, probe, helped, by, Australian, d...</td>\n",
       "      <td>[(Fbi, NNP), (Russia, NNP), (probe, NN), (help...</td>\n",
       "      <td>[{'Fbi': 'NNP', 'Russia': 'NNP', 'probe': 'NN'...</td>\n",
       "    </tr>\n",
       "    <tr>\n",
       "      <th>4</th>\n",
       "      <td>Trump wants postal service to charge 'Much mor...</td>\n",
       "      <td>0</td>\n",
       "      <td>[Trump, wants, postal, service, to, charge, 'M...</td>\n",
       "      <td>[(Trump, NN), (wants, VBZ), (postal, JJ), (ser...</td>\n",
       "      <td>[{'Trump': 'NN', 'wants': 'VBZ', 'postal': 'JJ...</td>\n",
       "    </tr>\n",
       "    <tr>\n",
       "      <th>...</th>\n",
       "      <td>...</td>\n",
       "      <td>...</td>\n",
       "      <td>...</td>\n",
       "      <td>...</td>\n",
       "      <td>...</td>\n",
       "    </tr>\n",
       "    <tr>\n",
       "      <th>44893</th>\n",
       "      <td>Mcpain: John McCain furious that Iran treated ...</td>\n",
       "      <td>1</td>\n",
       "      <td>[Mcpain, :, John, McCain, furious, that, Iran,...</td>\n",
       "      <td>[(Mcpain, NN), (:, :), (John, NNP), (McCain, N...</td>\n",
       "      <td>[{'Mcpain': 'NN', ':': ':', 'John': 'NNP', 'Mc...</td>\n",
       "    </tr>\n",
       "    <tr>\n",
       "      <th>44894</th>\n",
       "      <td>Justice? Yahoo settles E-mail privacy class-ac...</td>\n",
       "      <td>1</td>\n",
       "      <td>[Justice, ?, Yahoo, settles, E-mail, privacy, ...</td>\n",
       "      <td>[(Justice, NNP), (?, .), (Yahoo, NNP), (settle...</td>\n",
       "      <td>[{'Justice': 'NNP', '?': '.', 'Yahoo': 'NNP', ...</td>\n",
       "    </tr>\n",
       "    <tr>\n",
       "      <th>44895</th>\n",
       "      <td>Sunnistan: us and Allied ‘ safe zone ’ plan to...</td>\n",
       "      <td>1</td>\n",
       "      <td>[Sunnistan, :, us, and, Allied, ‘, safe, zone,...</td>\n",
       "      <td>[(Sunnistan, NN), (:, :), (us, PRP), (and, CC)...</td>\n",
       "      <td>[{'Sunnistan': 'NN', ':': ':', 'us': 'PRP', 'a...</td>\n",
       "    </tr>\n",
       "    <tr>\n",
       "      <th>44896</th>\n",
       "      <td>How to blow $700 million: al Jazeera America f...</td>\n",
       "      <td>1</td>\n",
       "      <td>[How, to, blow, $, 700, million, :, al, Jazeer...</td>\n",
       "      <td>[(How, WRB), (to, TO), (blow, VB), ($, $), (70...</td>\n",
       "      <td>[{'How': 'WRB', 'to': 'TO', 'blow': 'VB', '$':...</td>\n",
       "    </tr>\n",
       "    <tr>\n",
       "      <th>44897</th>\n",
       "      <td>10 U.S. Navy sailors held by Iranian military ...</td>\n",
       "      <td>1</td>\n",
       "      <td>[10, U.S., Navy, sailors, held, by, Iranian, m...</td>\n",
       "      <td>[(10, CD), (U.S., NNP), (Navy, NNP), (sailors,...</td>\n",
       "      <td>[{'10': 'CD', 'U.S.': 'NNP', 'Navy': 'NNP', 's...</td>\n",
       "    </tr>\n",
       "  </tbody>\n",
       "</table>\n",
       "<p>44898 rows × 5 columns</p>\n",
       "</div>"
      ],
      "text/plain": [
       "                                                   title  label  \\\n",
       "0      As U.S. budget fight looms, Republicans flip t...      0   \n",
       "1      U.s. military to accept Transgender recruits o...      0   \n",
       "2      Senior U.S. Republican Senator: 'Let Mr. Muell...      0   \n",
       "3      Fbi Russia probe helped by Australian diplomat...      0   \n",
       "4      Trump wants postal service to charge 'Much mor...      0   \n",
       "...                                                  ...    ...   \n",
       "44893  Mcpain: John McCain furious that Iran treated ...      1   \n",
       "44894  Justice? Yahoo settles E-mail privacy class-ac...      1   \n",
       "44895  Sunnistan: us and Allied ‘ safe zone ’ plan to...      1   \n",
       "44896  How to blow $700 million: al Jazeera America f...      1   \n",
       "44897  10 U.S. Navy sailors held by Iranian military ...      1   \n",
       "\n",
       "                                              token_data  \\\n",
       "0      [As, U.S., budget, fight, looms, ,, Republican...   \n",
       "1      [U.s., military, to, accept, Transgender, recr...   \n",
       "2      [Senior, U.S., Republican, Senator, :, 'Let, M...   \n",
       "3      [Fbi, Russia, probe, helped, by, Australian, d...   \n",
       "4      [Trump, wants, postal, service, to, charge, 'M...   \n",
       "...                                                  ...   \n",
       "44893  [Mcpain, :, John, McCain, furious, that, Iran,...   \n",
       "44894  [Justice, ?, Yahoo, settles, E-mail, privacy, ...   \n",
       "44895  [Sunnistan, :, us, and, Allied, ‘, safe, zone,...   \n",
       "44896  [How, to, blow, $, 700, million, :, al, Jazeer...   \n",
       "44897  [10, U.S., Navy, sailors, held, by, Iranian, m...   \n",
       "\n",
       "                                                     tag  \\\n",
       "0      [(As, IN), (U.S., NNP), (budget, NN), (fight, ...   \n",
       "1      [(U.s., JJ), (military, JJ), (to, TO), (accept...   \n",
       "2      [(Senior, JJ), (U.S., NNP), (Republican, NNP),...   \n",
       "3      [(Fbi, NNP), (Russia, NNP), (probe, NN), (help...   \n",
       "4      [(Trump, NN), (wants, VBZ), (postal, JJ), (ser...   \n",
       "...                                                  ...   \n",
       "44893  [(Mcpain, NN), (:, :), (John, NNP), (McCain, N...   \n",
       "44894  [(Justice, NNP), (?, .), (Yahoo, NNP), (settle...   \n",
       "44895  [(Sunnistan, NN), (:, :), (us, PRP), (and, CC)...   \n",
       "44896  [(How, WRB), (to, TO), (blow, VB), ($, $), (70...   \n",
       "44897  [(10, CD), (U.S., NNP), (Navy, NNP), (sailors,...   \n",
       "\n",
       "                                                features  \n",
       "0      [{'As': 'IN', 'U.S.': 'NNP', 'budget': 'NN', '...  \n",
       "1      [{'U.s.': 'JJ', 'military': 'JJ', 'to': 'TO', ...  \n",
       "2      [{'Senior': 'JJ', 'U.S.': 'NNP', 'Republican':...  \n",
       "3      [{'Fbi': 'NNP', 'Russia': 'NNP', 'probe': 'NN'...  \n",
       "4      [{'Trump': 'NN', 'wants': 'VBZ', 'postal': 'JJ...  \n",
       "...                                                  ...  \n",
       "44893  [{'Mcpain': 'NN', ':': ':', 'John': 'NNP', 'Mc...  \n",
       "44894  [{'Justice': 'NNP', '?': '.', 'Yahoo': 'NNP', ...  \n",
       "44895  [{'Sunnistan': 'NN', ':': ':', 'us': 'PRP', 'a...  \n",
       "44896  [{'How': 'WRB', 'to': 'TO', 'blow': 'VB', '$':...  \n",
       "44897  [{'10': 'CD', 'U.S.': 'NNP', 'Navy': 'NNP', 's...  \n",
       "\n",
       "[44898 rows x 5 columns]"
      ]
     },
     "execution_count": 43,
     "metadata": {},
     "output_type": "execute_result"
    }
   ],
   "source": [
    "fitmix2"
   ]
  },
  {
   "cell_type": "code",
   "execution_count": null,
   "id": "6c39d663",
   "metadata": {},
   "outputs": [],
   "source": [
    "# I have to transform the tuples from the tagging into \n",
    "#dictionaries and then use DictVectorizer"
   ]
  },
  {
   "cell_type": "code",
   "execution_count": 44,
   "id": "60671452",
   "metadata": {},
   "outputs": [],
   "source": [
    "fitmix2.to_csv('data with pos tags.csv', index = False)"
   ]
  },
  {
   "cell_type": "code",
   "execution_count": 45,
   "id": "5909848b",
   "metadata": {},
   "outputs": [],
   "source": [
    "df = pd.read_csv('data with pos tags.csv')"
   ]
  },
  {
   "cell_type": "code",
   "execution_count": 1,
   "id": "5d6cfd5d",
   "metadata": {},
   "outputs": [
    {
     "ename": "NameError",
     "evalue": "name 'df' is not defined",
     "output_type": "error",
     "traceback": [
      "\u001b[1;31m---------------------------------------------------------------------------\u001b[0m",
      "\u001b[1;31mNameError\u001b[0m                                 Traceback (most recent call last)",
      "Input \u001b[1;32mIn [1]\u001b[0m, in \u001b[0;36m<cell line: 1>\u001b[1;34m()\u001b[0m\n\u001b[1;32m----> 1\u001b[0m \u001b[43mdf\u001b[49m\n",
      "\u001b[1;31mNameError\u001b[0m: name 'df' is not defined"
     ]
    }
   ],
   "source": [
    "df"
   ]
  },
  {
   "cell_type": "code",
   "execution_count": null,
   "id": "177fa9ae",
   "metadata": {},
   "outputs": [],
   "source": []
  }
 ],
 "metadata": {
  "kernelspec": {
   "display_name": "Python 3 (ipykernel)",
   "language": "python",
   "name": "python3"
  },
  "language_info": {
   "codemirror_mode": {
    "name": "ipython",
    "version": 3
   },
   "file_extension": ".py",
   "mimetype": "text/x-python",
   "name": "python",
   "nbconvert_exporter": "python",
   "pygments_lexer": "ipython3",
   "version": "3.9.13"
  }
 },
 "nbformat": 4,
 "nbformat_minor": 5
}
