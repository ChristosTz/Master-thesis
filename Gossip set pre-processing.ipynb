{
 "cells": [
  {
   "cell_type": "code",
   "execution_count": 1,
   "id": "86d98bcc",
   "metadata": {},
   "outputs": [],
   "source": [
    "import numpy as np\n",
    "import pandas as pd\n",
    "import matplotlib.pyplot as plt\n",
    "import seaborn as sns\n",
    "import nltk\n",
    "from sklearn.ensemble import ExtraTreesClassifier\n",
    "from sklearn.datasets import load_iris\n",
    "from sklearn.feature_selection import SelectFromModel\n",
    "from sklearn.preprocessing import StandardScaler\n",
    "from sklearn.model_selection import train_test_split\n",
    "from sklearn.ensemble import ExtraTreesClassifier\n",
    "from sklearn.datasets import load_iris\n",
    "from sklearn.feature_selection import SelectFromModel\n",
    "from statsmodels.stats.outliers_influence import variance_inflation_factor\n",
    "from sklearn.feature_selection import SelectKBest, SelectPercentile, mutual_info_classif\n",
    "from sklearn.model_selection import StratifiedKFold\n",
    "from sklearn.model_selection import RepeatedStratifiedKFold\n",
    "\n",
    "from sklearn.model_selection import GridSearchCV\n",
    "from sklearn.neighbors import KNeighborsClassifier\n",
    "from sklearn.metrics import confusion_matrix,accuracy_score,classification_report\n",
    "from sklearn.neighbors import KNeighborsClassifier\n",
    "from sklearn import svm\n",
    "from sklearn.svm import SVC\n",
    "from sklearn.ensemble import RandomForestClassifier\n",
    "from vaderSentiment.vaderSentiment import SentimentIntensityAnalyzer"
   ]
  },
  {
   "cell_type": "code",
   "execution_count": 2,
   "id": "afab83fb",
   "metadata": {},
   "outputs": [],
   "source": [
    "fake = pd.read_csv('C:\\\\Users\\\\xrist\\\\Desktop\\\\Thesis\\\\datasets\\\\celebrity news\\\\gossipcop_fake.csv')\n",
    "true = pd.read_csv('C:\\\\Users\\\\xrist\\\\Desktop\\\\Thesis\\\\datasets\\\\celebrity news\\\\gossipcop_real.csv')\n",
    "\n",
    "fake['label'] = 1\n",
    "true['label'] = 0\n",
    "\n",
    "gossip = pd.concat([true,fake]).reset_index(drop=True)"
   ]
  },
  {
   "cell_type": "code",
   "execution_count": 3,
   "id": "eb8520bf",
   "metadata": {},
   "outputs": [],
   "source": [
    "gossip = gossip.drop(['id', 'news_url', 'tweet_ids'], axis=1)"
   ]
  },
  {
   "cell_type": "code",
   "execution_count": 4,
   "id": "6092179c",
   "metadata": {},
   "outputs": [
    {
     "data": {
      "text/html": [
       "<div>\n",
       "<style scoped>\n",
       "    .dataframe tbody tr th:only-of-type {\n",
       "        vertical-align: middle;\n",
       "    }\n",
       "\n",
       "    .dataframe tbody tr th {\n",
       "        vertical-align: top;\n",
       "    }\n",
       "\n",
       "    .dataframe thead th {\n",
       "        text-align: right;\n",
       "    }\n",
       "</style>\n",
       "<table border=\"1\" class=\"dataframe\">\n",
       "  <thead>\n",
       "    <tr style=\"text-align: right;\">\n",
       "      <th></th>\n",
       "      <th>title</th>\n",
       "      <th>label</th>\n",
       "    </tr>\n",
       "  </thead>\n",
       "  <tbody>\n",
       "    <tr>\n",
       "      <th>0</th>\n",
       "      <td>Teen Mom Star Jenelle Evans' Wedding Dress Is ...</td>\n",
       "      <td>0</td>\n",
       "    </tr>\n",
       "    <tr>\n",
       "      <th>1</th>\n",
       "      <td>Kylie Jenner refusing to discuss Tyga on Life ...</td>\n",
       "      <td>0</td>\n",
       "    </tr>\n",
       "    <tr>\n",
       "      <th>2</th>\n",
       "      <td>Quinn Perkins</td>\n",
       "      <td>0</td>\n",
       "    </tr>\n",
       "    <tr>\n",
       "      <th>3</th>\n",
       "      <td>I Tried Kim Kardashian's Butt Workout &amp; Am For...</td>\n",
       "      <td>0</td>\n",
       "    </tr>\n",
       "    <tr>\n",
       "      <th>4</th>\n",
       "      <td>Celine Dion donates concert proceeds to Vegas ...</td>\n",
       "      <td>0</td>\n",
       "    </tr>\n",
       "    <tr>\n",
       "      <th>...</th>\n",
       "      <td>...</td>\n",
       "      <td>...</td>\n",
       "    </tr>\n",
       "    <tr>\n",
       "      <th>22135</th>\n",
       "      <td>September 11: Celebrities Remember 9/11 (TWEETS)</td>\n",
       "      <td>1</td>\n",
       "    </tr>\n",
       "    <tr>\n",
       "      <th>22136</th>\n",
       "      <td>NASCAR owners threaten to fire drivers who pro...</td>\n",
       "      <td>1</td>\n",
       "    </tr>\n",
       "    <tr>\n",
       "      <th>22137</th>\n",
       "      <td>The 7 signs that David Beckham is definitely h...</td>\n",
       "      <td>1</td>\n",
       "    </tr>\n",
       "    <tr>\n",
       "      <th>22138</th>\n",
       "      <td>Ryan Gosling and Eva Mendes Did Not Get Marrie...</td>\n",
       "      <td>1</td>\n",
       "    </tr>\n",
       "    <tr>\n",
       "      <th>22139</th>\n",
       "      <td>Jamie Foxx Spends the Day With Katie Holmes an...</td>\n",
       "      <td>1</td>\n",
       "    </tr>\n",
       "  </tbody>\n",
       "</table>\n",
       "<p>22140 rows × 2 columns</p>\n",
       "</div>"
      ],
      "text/plain": [
       "                                                   title  label\n",
       "0      Teen Mom Star Jenelle Evans' Wedding Dress Is ...      0\n",
       "1      Kylie Jenner refusing to discuss Tyga on Life ...      0\n",
       "2                                          Quinn Perkins      0\n",
       "3      I Tried Kim Kardashian's Butt Workout & Am For...      0\n",
       "4      Celine Dion donates concert proceeds to Vegas ...      0\n",
       "...                                                  ...    ...\n",
       "22135   September 11: Celebrities Remember 9/11 (TWEETS)      1\n",
       "22136  NASCAR owners threaten to fire drivers who pro...      1\n",
       "22137  The 7 signs that David Beckham is definitely h...      1\n",
       "22138  Ryan Gosling and Eva Mendes Did Not Get Marrie...      1\n",
       "22139  Jamie Foxx Spends the Day With Katie Holmes an...      1\n",
       "\n",
       "[22140 rows x 2 columns]"
      ]
     },
     "execution_count": 4,
     "metadata": {},
     "output_type": "execute_result"
    }
   ],
   "source": [
    "gossip"
   ]
  },
  {
   "cell_type": "code",
   "execution_count": 5,
   "id": "6dc6115e",
   "metadata": {},
   "outputs": [
    {
     "name": "stdout",
     "output_type": "stream",
     "text": [
      "Requirement already satisfied: truecase in c:\\users\\xrist\\anaconda3\\lib\\site-packages (0.0.14)\n",
      "Requirement already satisfied: nltk in c:\\users\\xrist\\anaconda3\\lib\\site-packages (from truecase) (3.7)\n",
      "Requirement already satisfied: click in c:\\users\\xrist\\anaconda3\\lib\\site-packages (from nltk->truecase) (8.0.4)\n",
      "Requirement already satisfied: tqdm in c:\\users\\xrist\\anaconda3\\lib\\site-packages (from nltk->truecase) (4.64.1)\n",
      "Requirement already satisfied: joblib in c:\\users\\xrist\\anaconda3\\lib\\site-packages (from nltk->truecase) (1.1.0)\n",
      "Requirement already satisfied: regex>=2021.8.3 in c:\\users\\xrist\\anaconda3\\lib\\site-packages (from nltk->truecase) (2022.7.9)\n",
      "Requirement already satisfied: colorama in c:\\users\\xrist\\anaconda3\\lib\\site-packages (from click->nltk->truecase) (0.4.5)\n"
     ]
    }
   ],
   "source": [
    "!pip install truecase\n",
    "import truecase\n",
    "#Make the capitalisation nice\n",
    "gossip['title'] = gossip['title'].apply(lambda x:truecase.get_true_case(x))"
   ]
  },
  {
   "cell_type": "code",
   "execution_count": 6,
   "id": "f2c44155",
   "metadata": {},
   "outputs": [],
   "source": [
    "def count_pos_tags(column, tag):\n",
    "    from nltk import word_tokenize, pos_tag\n",
    "    lst = []\n",
    "    for idx,x in enumerate(column):\n",
    "        lst.append(sum(1 for word, pos in pos_tag(word_tokenize(x)) if pos.startswith(tag)))\n",
    "    return lst"
   ]
  },
  {
   "cell_type": "code",
   "execution_count": 7,
   "id": "2ba0e32f",
   "metadata": {},
   "outputs": [],
   "source": [
    "vcount = count_pos_tags(gossip.title, 'VB')\n",
    "gossip['verb_count'] = vcount"
   ]
  },
  {
   "cell_type": "code",
   "execution_count": 8,
   "id": "40ef9f0b",
   "metadata": {},
   "outputs": [],
   "source": [
    "#Number of proper nouns\n",
    "pncount = count_pos_tags(gossip.title, 'NNP')\n",
    "gossip['proper_noun_count'] = pncount"
   ]
  },
  {
   "cell_type": "code",
   "execution_count": 9,
   "id": "50f1c0bf",
   "metadata": {},
   "outputs": [],
   "source": [
    "#Number of total nouns (including proper_nouns)\n",
    "ncount = count_pos_tags(gossip.title, 'NN')\n",
    "\n",
    "#Number of nouns\n",
    "nouns = abs(np.subtract(np.array(pncount), np.array(ncount)))\n",
    "gossip['noun_count'] = nouns"
   ]
  },
  {
   "cell_type": "code",
   "execution_count": 10,
   "id": "34255e99",
   "metadata": {},
   "outputs": [],
   "source": [
    "#Number of adjectives\n",
    "jcount = count_pos_tags(gossip.title, 'JJ')\n",
    "gossip['adjective_count'] = jcount\n",
    "\n",
    "#Number of adverbs\n",
    "acount = count_pos_tags(gossip.title, 'RB')\n",
    "gossip['adverb_count'] = acount\n",
    "\n"
   ]
  },
  {
   "cell_type": "code",
   "execution_count": 11,
   "id": "6a931165",
   "metadata": {},
   "outputs": [],
   "source": [
    "#emotiveness\n",
    "gossip['emotiveness'] = (gossip['adjective_count']+ gossip['adverb_count']) / (gossip['noun_count'] + gossip['verb_count'])"
   ]
  },
  {
   "cell_type": "code",
   "execution_count": 12,
   "id": "b3b231cb",
   "metadata": {},
   "outputs": [
    {
     "name": "stdout",
     "output_type": "stream",
     "text": [
      "Requirement already satisfied: vaderSentiment in c:\\users\\xrist\\anaconda3\\lib\\site-packages (3.3.2)\n",
      "Requirement already satisfied: requests in c:\\users\\xrist\\anaconda3\\lib\\site-packages (from vaderSentiment) (2.28.1)\n",
      "Requirement already satisfied: charset-normalizer<3,>=2 in c:\\users\\xrist\\anaconda3\\lib\\site-packages (from requests->vaderSentiment) (2.0.4)\n",
      "Requirement already satisfied: urllib3<1.27,>=1.21.1 in c:\\users\\xrist\\anaconda3\\lib\\site-packages (from requests->vaderSentiment) (1.26.11)\n",
      "Requirement already satisfied: idna<4,>=2.5 in c:\\users\\xrist\\anaconda3\\lib\\site-packages (from requests->vaderSentiment) (3.3)\n",
      "Requirement already satisfied: certifi>=2017.4.17 in c:\\users\\xrist\\anaconda3\\lib\\site-packages (from requests->vaderSentiment) (2022.9.24)\n"
     ]
    }
   ],
   "source": [
    "!pip install vaderSentiment\n",
    "SA = SentimentIntensityAnalyzer()"
   ]
  },
  {
   "cell_type": "code",
   "execution_count": 13,
   "id": "9aebfa88",
   "metadata": {},
   "outputs": [],
   "source": [
    "\n",
    "#Sentiment analysis\n",
    "sa = []\n",
    "for idx,x in enumerate(gossip['title']):\n",
    "    sa.append(SA.polarity_scores(x))\n",
    "    \n",
    "    \n",
    "negative = pd.DataFrame([d['neg'] for d in sa])\n",
    "positive = pd.DataFrame([d['pos'] for d in sa])\n",
    "neutral = pd.DataFrame([d['neu'] for d in sa])\n",
    "compound = pd.DataFrame([d['compound'] for d in sa])\n",
    "#Attach sentiment labels\n",
    "gossip['compound'] = compound\n",
    "gossip['neutral'] = neutral"
   ]
  },
  {
   "cell_type": "code",
   "execution_count": 14,
   "id": "b2b624fa",
   "metadata": {},
   "outputs": [],
   "source": [
    "gp = gossip.loc[:,['verb_count','proper_noun_count', 'emotiveness', 'compound', 'neutral', 'label']]"
   ]
  },
  {
   "cell_type": "code",
   "execution_count": 15,
   "id": "337aa657",
   "metadata": {},
   "outputs": [
    {
     "data": {
      "text/html": [
       "<div>\n",
       "<style scoped>\n",
       "    .dataframe tbody tr th:only-of-type {\n",
       "        vertical-align: middle;\n",
       "    }\n",
       "\n",
       "    .dataframe tbody tr th {\n",
       "        vertical-align: top;\n",
       "    }\n",
       "\n",
       "    .dataframe thead th {\n",
       "        text-align: right;\n",
       "    }\n",
       "</style>\n",
       "<table border=\"1\" class=\"dataframe\">\n",
       "  <thead>\n",
       "    <tr style=\"text-align: right;\">\n",
       "      <th></th>\n",
       "      <th>verb_count</th>\n",
       "      <th>proper_noun_count</th>\n",
       "      <th>emotiveness</th>\n",
       "      <th>compound</th>\n",
       "      <th>neutral</th>\n",
       "      <th>label</th>\n",
       "    </tr>\n",
       "  </thead>\n",
       "  <tbody>\n",
       "    <tr>\n",
       "      <th>0</th>\n",
       "      <td>1</td>\n",
       "      <td>3</td>\n",
       "      <td>0.75</td>\n",
       "      <td>0.0000</td>\n",
       "      <td>1.000</td>\n",
       "      <td>0</td>\n",
       "    </tr>\n",
       "    <tr>\n",
       "      <th>1</th>\n",
       "      <td>2</td>\n",
       "      <td>4</td>\n",
       "      <td>0.00</td>\n",
       "      <td>-0.4019</td>\n",
       "      <td>0.769</td>\n",
       "      <td>0</td>\n",
       "    </tr>\n",
       "    <tr>\n",
       "      <th>2</th>\n",
       "      <td>0</td>\n",
       "      <td>0</td>\n",
       "      <td>0.00</td>\n",
       "      <td>0.0000</td>\n",
       "      <td>1.000</td>\n",
       "      <td>0</td>\n",
       "    </tr>\n",
       "    <tr>\n",
       "      <th>3</th>\n",
       "      <td>3</td>\n",
       "      <td>2</td>\n",
       "      <td>0.20</td>\n",
       "      <td>0.0000</td>\n",
       "      <td>1.000</td>\n",
       "      <td>0</td>\n",
       "    </tr>\n",
       "    <tr>\n",
       "      <th>4</th>\n",
       "      <td>3</td>\n",
       "      <td>2</td>\n",
       "      <td>0.20</td>\n",
       "      <td>-0.3182</td>\n",
       "      <td>0.777</td>\n",
       "      <td>0</td>\n",
       "    </tr>\n",
       "    <tr>\n",
       "      <th>...</th>\n",
       "      <td>...</td>\n",
       "      <td>...</td>\n",
       "      <td>...</td>\n",
       "      <td>...</td>\n",
       "      <td>...</td>\n",
       "      <td>...</td>\n",
       "    </tr>\n",
       "    <tr>\n",
       "      <th>22135</th>\n",
       "      <td>1</td>\n",
       "      <td>1</td>\n",
       "      <td>0.00</td>\n",
       "      <td>0.0000</td>\n",
       "      <td>1.000</td>\n",
       "      <td>1</td>\n",
       "    </tr>\n",
       "    <tr>\n",
       "      <th>22136</th>\n",
       "      <td>3</td>\n",
       "      <td>0</td>\n",
       "      <td>0.00</td>\n",
       "      <td>-0.7184</td>\n",
       "      <td>0.417</td>\n",
       "      <td>1</td>\n",
       "    </tr>\n",
       "    <tr>\n",
       "      <th>22137</th>\n",
       "      <td>2</td>\n",
       "      <td>3</td>\n",
       "      <td>0.25</td>\n",
       "      <td>-0.3400</td>\n",
       "      <td>0.595</td>\n",
       "      <td>1</td>\n",
       "    </tr>\n",
       "    <tr>\n",
       "      <th>22138</th>\n",
       "      <td>3</td>\n",
       "      <td>3</td>\n",
       "      <td>1.00</td>\n",
       "      <td>0.0000</td>\n",
       "      <td>1.000</td>\n",
       "      <td>1</td>\n",
       "    </tr>\n",
       "    <tr>\n",
       "      <th>22139</th>\n",
       "      <td>1</td>\n",
       "      <td>5</td>\n",
       "      <td>0.20</td>\n",
       "      <td>0.0000</td>\n",
       "      <td>1.000</td>\n",
       "      <td>1</td>\n",
       "    </tr>\n",
       "  </tbody>\n",
       "</table>\n",
       "<p>22140 rows × 6 columns</p>\n",
       "</div>"
      ],
      "text/plain": [
       "       verb_count  proper_noun_count  emotiveness  compound  neutral  label\n",
       "0               1                  3         0.75    0.0000    1.000      0\n",
       "1               2                  4         0.00   -0.4019    0.769      0\n",
       "2               0                  0         0.00    0.0000    1.000      0\n",
       "3               3                  2         0.20    0.0000    1.000      0\n",
       "4               3                  2         0.20   -0.3182    0.777      0\n",
       "...           ...                ...          ...       ...      ...    ...\n",
       "22135           1                  1         0.00    0.0000    1.000      1\n",
       "22136           3                  0         0.00   -0.7184    0.417      1\n",
       "22137           2                  3         0.25   -0.3400    0.595      1\n",
       "22138           3                  3         1.00    0.0000    1.000      1\n",
       "22139           1                  5         0.20    0.0000    1.000      1\n",
       "\n",
       "[22140 rows x 6 columns]"
      ]
     },
     "execution_count": 15,
     "metadata": {},
     "output_type": "execute_result"
    }
   ],
   "source": [
    "gp"
   ]
  },
  {
   "cell_type": "code",
   "execution_count": 16,
   "id": "93bca0da",
   "metadata": {},
   "outputs": [
    {
     "data": {
      "text/plain": [
       "Int64Index([   36,    41,    64,    87,   278,   318,   398,   408,   416,\n",
       "              472,\n",
       "            ...\n",
       "            21879, 21893, 21908, 21922, 21976, 21998, 22038, 22050, 22088,\n",
       "            22121],\n",
       "           dtype='int64', length=461)"
      ]
     },
     "execution_count": 16,
     "metadata": {},
     "output_type": "execute_result"
    }
   ],
   "source": [
    "gp.loc[pd.isna(gp).any(1), :].index"
   ]
  },
  {
   "cell_type": "code",
   "execution_count": 17,
   "id": "41195f22",
   "metadata": {},
   "outputs": [
    {
     "data": {
      "text/plain": [
       "Int64Index([], dtype='int64')"
      ]
     },
     "execution_count": 17,
     "metadata": {},
     "output_type": "execute_result"
    }
   ],
   "source": [
    "gp.replace([np.inf, -np.inf], np.nan, inplace=True)\n",
    "\n",
    "nan = gp.loc[pd.isna(gp).any(1), :].index\n",
    "\n",
    "for x in nan:\n",
    "    gp = gp.drop(index = x, axis = 1)\n",
    "    \n",
    "gp.loc[pd.isna(gp).any(1), :].index"
   ]
  },
  {
   "cell_type": "code",
   "execution_count": 18,
   "id": "6b0b94cd",
   "metadata": {},
   "outputs": [],
   "source": [
    "gp.to_csv(\"gossip news for cv\", index = False)"
   ]
  },
  {
   "cell_type": "code",
   "execution_count": 19,
   "id": "760308ee",
   "metadata": {},
   "outputs": [
    {
     "data": {
      "text/plain": [
       "518"
      ]
     },
     "execution_count": 19,
     "metadata": {},
     "output_type": "execute_result"
    }
   ],
   "source": [
    "len(nan)"
   ]
  },
  {
   "cell_type": "code",
   "execution_count": 21,
   "id": "3a24aa69",
   "metadata": {},
   "outputs": [
    {
     "data": {
      "text/plain": [
       "(22140, 10)"
      ]
     },
     "execution_count": 21,
     "metadata": {},
     "output_type": "execute_result"
    }
   ],
   "source": [
    "gossip.shape"
   ]
  },
  {
   "cell_type": "code",
   "execution_count": null,
   "id": "263308f9",
   "metadata": {},
   "outputs": [],
   "source": []
  }
 ],
 "metadata": {
  "kernelspec": {
   "display_name": "Python 3 (ipykernel)",
   "language": "python",
   "name": "python3"
  },
  "language_info": {
   "codemirror_mode": {
    "name": "ipython",
    "version": 3
   },
   "file_extension": ".py",
   "mimetype": "text/x-python",
   "name": "python",
   "nbconvert_exporter": "python",
   "pygments_lexer": "ipython3",
   "version": "3.9.13"
  }
 },
 "nbformat": 4,
 "nbformat_minor": 5
}
