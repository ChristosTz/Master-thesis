{
 "cells": [
  {
   "cell_type": "code",
   "execution_count": 1,
   "id": "550e80e8",
   "metadata": {},
   "outputs": [],
   "source": [
    "import numpy as np\n",
    "import pandas as pd\n",
    "import matplotlib.pyplot as plt\n",
    "import seaborn as sns\n",
    "import nltk\n",
    "from sklearn.ensemble import ExtraTreesClassifier\n",
    "from sklearn.datasets import load_iris\n",
    "from sklearn.feature_selection import SelectFromModel\n",
    "from sklearn.preprocessing import StandardScaler\n",
    "from sklearn.model_selection import train_test_split\n",
    "from sklearn.ensemble import ExtraTreesClassifier\n",
    "from sklearn.datasets import load_iris\n",
    "from sklearn.feature_selection import SelectFromModel\n",
    "from statsmodels.stats.outliers_influence import variance_inflation_factor\n",
    "from sklearn.feature_selection import SelectKBest, SelectPercentile, mutual_info_classif\n",
    "from sklearn.model_selection import StratifiedKFold\n",
    "from sklearn.model_selection import RepeatedStratifiedKFold\n",
    "\n",
    "from sklearn.model_selection import GridSearchCV\n",
    "from sklearn.neighbors import KNeighborsClassifier\n",
    "from sklearn.metrics import confusion_matrix,accuracy_score,classification_report\n",
    "from sklearn.neighbors import KNeighborsClassifier\n",
    "from sklearn import svm\n",
    "from sklearn.svm import SVC\n",
    "from sklearn.ensemble import RandomForestClassifier\n"
   ]
  },
  {
   "cell_type": "code",
   "execution_count": 2,
   "id": "cd2c842d",
   "metadata": {},
   "outputs": [],
   "source": [
    "df = pd.read_csv('selected_features.csv')\n",
    "df = df.sample(frac = 1, random_state=42)\n",
    "\n",
    "X = df.loc[:,['verb_count',\n",
    " 'proper_noun_count',\n",
    " 'emotiveness',\n",
    " 'compound',\n",
    " 'neutral']]\n",
    "\n",
    "feature_names = list(X.columns)\n",
    "\n",
    "y=np.array(df.label)\n",
    "X = np.array(X)\n"
   ]
  },
  {
   "cell_type": "code",
   "execution_count": 3,
   "id": "d9b0f0f1",
   "metadata": {},
   "outputs": [
    {
     "name": "stdout",
     "output_type": "stream",
     "text": [
      "X_train shape: (26923, 5) \n",
      "\n",
      "X_test shape: (8975, 5) \n",
      "\n",
      "X_val shape: (8975, 5) \n",
      "\n",
      "y_train shape: (26923,)\n",
      "\n",
      "y_test shape: (8975,)\n",
      "\n",
      "y_val shape: (8975,)\n",
      "\n"
     ]
    }
   ],
   "source": [
    "#Split X & y into train and test sets\n",
    "X_train, X_test, y_train, y_test = train_test_split(X, y,\n",
    "    test_size=0.2, shuffle = True, random_state = 8)\n",
    "#Split remaining train into train and  validation\n",
    "X_train, X_val, y_train, y_val = train_test_split(X_train, y_train, \n",
    "    test_size=0.25, random_state= 8) # 0.25 x 0.8 = 0.2\n",
    "\n",
    "\n",
    "print(\"X_train shape: {} \\n\".format(X_train.shape))\n",
    "print(\"X_test shape: {} \\n\" .format(X_test.shape))\n",
    "print(\"X_val shape: {} \\n\".format(X_val.shape))\n",
    "print(\"y_train shape: {}\\n\".format(y_train.shape))\n",
    "print(\"y_test shape: {}\\n\".format(y_test.shape))\n",
    "print(\"y_val shape: {}\\n\".format(y_val.shape))\n",
    "\n",
    "\n",
    "# Scale the featrues, you are fitting and transforming the train features but not the test/val. Testing data must remain unseen by the model. If you fit the testing data then your model learned on the testing data\n",
    "sc = StandardScaler()\n",
    "X_train = sc.fit_transform(X_train)\n",
    "X_val = sc.transform(X_val)\n",
    "X_test = sc.transform(X_test)"
   ]
  },
  {
   "cell_type": "code",
   "execution_count": 4,
   "id": "0dcceb32",
   "metadata": {},
   "outputs": [],
   "source": [
    "rfc = RandomForestClassifier()"
   ]
  },
  {
   "cell_type": "code",
   "execution_count": 5,
   "id": "b693f7a3",
   "metadata": {},
   "outputs": [
    {
     "data": {
      "text/plain": [
       "{'bootstrap': True,\n",
       " 'ccp_alpha': 0.0,\n",
       " 'class_weight': None,\n",
       " 'criterion': 'gini',\n",
       " 'max_depth': None,\n",
       " 'max_features': 'auto',\n",
       " 'max_leaf_nodes': None,\n",
       " 'max_samples': None,\n",
       " 'min_impurity_decrease': 0.0,\n",
       " 'min_samples_leaf': 1,\n",
       " 'min_samples_split': 2,\n",
       " 'min_weight_fraction_leaf': 0.0,\n",
       " 'n_estimators': 100,\n",
       " 'n_jobs': None,\n",
       " 'oob_score': False,\n",
       " 'random_state': None,\n",
       " 'verbose': 0,\n",
       " 'warm_start': False}"
      ]
     },
     "execution_count": 5,
     "metadata": {},
     "output_type": "execute_result"
    }
   ],
   "source": [
    "rfc.get_params()"
   ]
  },
  {
   "cell_type": "code",
   "execution_count": 6,
   "id": "a4ea92ca",
   "metadata": {},
   "outputs": [
    {
     "data": {
      "text/plain": [
       "RandomForestClassifier()"
      ]
     },
     "execution_count": 6,
     "metadata": {},
     "output_type": "execute_result"
    }
   ],
   "source": [
    "rfc.fit(X_train,y_train)"
   ]
  },
  {
   "cell_type": "code",
   "execution_count": 7,
   "id": "33dfc2ad",
   "metadata": {},
   "outputs": [
    {
     "name": "stdout",
     "output_type": "stream",
     "text": [
      "              precision    recall  f1-score   support\n",
      "\n",
      "           0       0.85      0.81      0.83      4435\n",
      "           1       0.82      0.86      0.84      4540\n",
      "\n",
      "    accuracy                           0.83      8975\n",
      "   macro avg       0.84      0.83      0.83      8975\n",
      "weighted avg       0.84      0.83      0.83      8975\n",
      "\n"
     ]
    }
   ],
   "source": [
    "y_pred = rfc.predict(X_val)\n",
    "print(classification_report(y_pred, y_val))"
   ]
  },
  {
   "cell_type": "code",
   "execution_count": 11,
   "id": "5e999f06",
   "metadata": {},
   "outputs": [],
   "source": [
    "max_features = ['sqrt', 'log2', None]\n",
    "min_samples_leaf = [1,2,3,4,5]\n",
    "n_jobs = -1\n",
    "criterion = ['gini', 'entropy']\n",
    "n_estimators = [10,20,30,40,50,60,70,80,100]\n",
    "\n",
    "cv = RepeatedStratifiedKFold(n_splits=3, n_repeats=3, random_state=1)\n",
    "param_grid = dict(max_features=max_features, min_samples_leaf=min_samples_leaf,\n",
    "                 criterion=criterion, n_estimators=n_estimators)"
   ]
  },
  {
   "cell_type": "code",
   "execution_count": 12,
   "id": "5c57350d",
   "metadata": {},
   "outputs": [
    {
     "name": "stdout",
     "output_type": "stream",
     "text": [
      "Fitting 9 folds for each of 270 candidates, totalling 2430 fits\n",
      "Best: 0.826481 using {'criterion': 'gini', 'max_features': 'sqrt', 'min_samples_leaf': 2, 'n_estimators': 100}\n"
     ]
    }
   ],
   "source": [
    "gridCVForest = GridSearchCV(rfc, param_grid, n_jobs=-1, scoring='accuracy', cv=cv\n",
    "                           ,error_score='raise', verbose=1)\n",
    "\n",
    "grid_fit=gridCVForest.fit(X_train, y_train)\n",
    "\n",
    "#Best parameters and accuracy\n",
    "print(\"Best: %f using %s\" % (grid_fit.best_score_, grid_fit.best_params_))"
   ]
  },
  {
   "cell_type": "raw",
   "id": "196ce095",
   "metadata": {},
   "source": []
  },
  {
   "cell_type": "code",
   "execution_count": null,
   "id": "6cfa4c09",
   "metadata": {},
   "outputs": [],
   "source": []
  },
  {
   "cell_type": "code",
   "execution_count": 13,
   "id": "7ba7159a",
   "metadata": {},
   "outputs": [
    {
     "name": "stdout",
     "output_type": "stream",
     "text": [
      "              precision    recall  f1-score   support\n",
      "\n",
      "           0       0.86      0.80      0.83      4488\n",
      "           1       0.81      0.86      0.84      4487\n",
      "\n",
      "    accuracy                           0.83      8975\n",
      "   macro avg       0.83      0.83      0.83      8975\n",
      "weighted avg       0.83      0.83      0.83      8975\n",
      "\n"
     ]
    }
   ],
   "source": [
    "y_pred = gridCVForest.predict(X_val)\n",
    "print(classification_report(y_pred, y_val))"
   ]
  },
  {
   "cell_type": "code",
   "execution_count": 14,
   "id": "dd1198bf",
   "metadata": {},
   "outputs": [
    {
     "name": "stdout",
     "output_type": "stream",
     "text": [
      "              precision    recall  f1-score   support\n",
      "\n",
      "           0       0.87      0.80      0.83      4645\n",
      "           1       0.80      0.87      0.83      4330\n",
      "\n",
      "    accuracy                           0.83      8975\n",
      "   macro avg       0.83      0.83      0.83      8975\n",
      "weighted avg       0.83      0.83      0.83      8975\n",
      "\n"
     ]
    }
   ],
   "source": [
    "y_pred= gridCVForest.predict(X_test)\n",
    "print(classification_report(y_pred, y_test))"
   ]
  },
  {
   "cell_type": "code",
   "execution_count": 16,
   "id": "974bd49a",
   "metadata": {},
   "outputs": [],
   "source": [
    "pl = pd.read_csv('political news for cv')\n",
    "gp = pd.read_csv('gossip news for cv')"
   ]
  },
  {
   "cell_type": "code",
   "execution_count": 17,
   "id": "1bd8dcce",
   "metadata": {},
   "outputs": [],
   "source": [
    "gp = gp.sample(frac = 1, random_state=42)\n",
    "pl = pl.sample(frac = 1, random_state=42)"
   ]
  },
  {
   "cell_type": "code",
   "execution_count": 18,
   "id": "540ac4bb",
   "metadata": {},
   "outputs": [],
   "source": [
    "\n",
    "gp = gp.sample(frac = 1, random_state=42)\n",
    "\n",
    "X = gp.loc[:,['verb_count',\n",
    " 'proper_noun_count',\n",
    " 'emotiveness',\n",
    " 'compound',\n",
    " 'neutral']]\n",
    "\n",
    "feature_names = list(X.columns)\n",
    "\n",
    "y=np.array(gp.label)\n",
    "X = np.array(X)\n",
    "\n",
    "sc = StandardScaler()\n",
    "X = sc.fit_transform(X)\n"
   ]
  },
  {
   "cell_type": "code",
   "execution_count": 19,
   "id": "1ed2e1da",
   "metadata": {},
   "outputs": [
    {
     "name": "stdout",
     "output_type": "stream",
     "text": [
      "              precision    recall  f1-score   support\n",
      "\n",
      "           0       0.30      0.81      0.44      6143\n",
      "           1       0.78      0.26      0.39     15479\n",
      "\n",
      "    accuracy                           0.42     21622\n",
      "   macro avg       0.54      0.54      0.42     21622\n",
      "weighted avg       0.64      0.42      0.40     21622\n",
      "\n"
     ]
    }
   ],
   "source": [
    "y_pred= gridCVForest.predict(X)\n",
    "print(classification_report(y_pred, y))"
   ]
  },
  {
   "cell_type": "code",
   "execution_count": 20,
   "id": "c24e4d1a",
   "metadata": {},
   "outputs": [],
   "source": [
    "X = pl.loc[:,['verb_count',\n",
    " 'proper_noun_count',\n",
    " 'emotiveness',\n",
    " 'compound',\n",
    " 'neutral']]\n",
    "\n",
    "feature_names = list(X.columns)\n",
    "\n",
    "y=np.array(pl.label)\n",
    "X = np.array(X)\n",
    "\n",
    "sc = StandardScaler()\n",
    "X = sc.fit_transform(X)\n"
   ]
  },
  {
   "cell_type": "code",
   "execution_count": 21,
   "id": "ed44c717",
   "metadata": {},
   "outputs": [
    {
     "name": "stdout",
     "output_type": "stream",
     "text": [
      "              precision    recall  f1-score   support\n",
      "\n",
      "           0       0.29      0.78      0.43       169\n",
      "           1       0.90      0.51      0.65       641\n",
      "\n",
      "    accuracy                           0.57       810\n",
      "   macro avg       0.60      0.64      0.54       810\n",
      "weighted avg       0.77      0.57      0.60       810\n",
      "\n"
     ]
    }
   ],
   "source": [
    "y_pred= gridCVForest.predict(X)\n",
    "print(classification_report(y_pred, y))"
   ]
  },
  {
   "cell_type": "code",
   "execution_count": null,
   "id": "a2f926eb",
   "metadata": {},
   "outputs": [],
   "source": []
  }
 ],
 "metadata": {
  "kernelspec": {
   "display_name": "Python 3 (ipykernel)",
   "language": "python",
   "name": "python3"
  },
  "language_info": {
   "codemirror_mode": {
    "name": "ipython",
    "version": 3
   },
   "file_extension": ".py",
   "mimetype": "text/x-python",
   "name": "python",
   "nbconvert_exporter": "python",
   "pygments_lexer": "ipython3",
   "version": "3.9.13"
  }
 },
 "nbformat": 4,
 "nbformat_minor": 5
}
