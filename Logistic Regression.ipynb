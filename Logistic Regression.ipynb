{
 "cells": [
  {
   "cell_type": "code",
   "execution_count": 22,
   "id": "a78cde6a",
   "metadata": {},
   "outputs": [],
   "source": [
    "import numpy as np\n",
    "import pandas as pd\n",
    "import matplotlib.pyplot as plt\n",
    "import seaborn as sns\n",
    "import nltk\n",
    "from sklearn.ensemble import ExtraTreesClassifier\n",
    "from sklearn.datasets import load_iris\n",
    "from sklearn.feature_selection import SelectFromModel\n",
    "from sklearn.preprocessing import StandardScaler\n",
    "from sklearn.model_selection import train_test_split\n",
    "from sklearn.ensemble import ExtraTreesClassifier\n",
    "from sklearn.datasets import load_iris\n",
    "from sklearn.feature_selection import SelectFromModel\n",
    "from statsmodels.stats.outliers_influence import variance_inflation_factor\n",
    "from sklearn.feature_selection import SelectKBest, SelectPercentile, mutual_info_classif\n",
    "from sklearn.model_selection import StratifiedKFold\n",
    "from sklearn.model_selection import RepeatedStratifiedKFold\n",
    "from sklearn.model_selection import GridSearchCV\n",
    "from sklearn.neighbors import KNeighborsClassifier\n",
    "from sklearn.metrics import confusion_matrix,accuracy_score,classification_report\n",
    "from sklearn.neighbors import KNeighborsClassifier\n",
    "from sklearn.naive_bayes import GaussianNB\n",
    "import statsmodels.api as sm\n",
    "from statsmodels.genmod.generalized_linear_model import GLM\n",
    "from statsmodels.genmod import families"
   ]
  },
  {
   "cell_type": "code",
   "execution_count": 2,
   "id": "42d54a7e",
   "metadata": {},
   "outputs": [],
   "source": [
    "import matplotlib.pyplot as plt\n"
   ]
  },
  {
   "cell_type": "code",
   "execution_count": null,
   "id": "3d06ed0f",
   "metadata": {},
   "outputs": [],
   "source": [
    "#https://github.com/kennethleungty/Logistic-Regression-Assumptions/blob/main/Logistic_Regression_Assumptions.ipynb"
   ]
  },
  {
   "cell_type": "code",
   "execution_count": 3,
   "id": "4f35b625",
   "metadata": {},
   "outputs": [
    {
     "data": {
      "text/html": [
       "<div>\n",
       "<style scoped>\n",
       "    .dataframe tbody tr th:only-of-type {\n",
       "        vertical-align: middle;\n",
       "    }\n",
       "\n",
       "    .dataframe tbody tr th {\n",
       "        vertical-align: top;\n",
       "    }\n",
       "\n",
       "    .dataframe thead th {\n",
       "        text-align: right;\n",
       "    }\n",
       "</style>\n",
       "<table border=\"1\" class=\"dataframe\">\n",
       "  <thead>\n",
       "    <tr style=\"text-align: right;\">\n",
       "      <th></th>\n",
       "      <th>verb_count</th>\n",
       "      <th>proper_noun_count</th>\n",
       "      <th>emotiveness</th>\n",
       "      <th>compound</th>\n",
       "      <th>neutral</th>\n",
       "      <th>label</th>\n",
       "    </tr>\n",
       "  </thead>\n",
       "  <tbody>\n",
       "    <tr>\n",
       "      <th>0</th>\n",
       "      <td>2</td>\n",
       "      <td>2</td>\n",
       "      <td>0.200000</td>\n",
       "      <td>-0.4939</td>\n",
       "      <td>0.656</td>\n",
       "      <td>0</td>\n",
       "    </tr>\n",
       "    <tr>\n",
       "      <th>1</th>\n",
       "      <td>1</td>\n",
       "      <td>3</td>\n",
       "      <td>1.000000</td>\n",
       "      <td>0.3818</td>\n",
       "      <td>0.755</td>\n",
       "      <td>0</td>\n",
       "    </tr>\n",
       "    <tr>\n",
       "      <th>2</th>\n",
       "      <td>1</td>\n",
       "      <td>5</td>\n",
       "      <td>0.500000</td>\n",
       "      <td>0.0000</td>\n",
       "      <td>1.000</td>\n",
       "      <td>0</td>\n",
       "    </tr>\n",
       "    <tr>\n",
       "      <th>3</th>\n",
       "      <td>1</td>\n",
       "      <td>2</td>\n",
       "      <td>0.200000</td>\n",
       "      <td>0.0000</td>\n",
       "      <td>1.000</td>\n",
       "      <td>0</td>\n",
       "    </tr>\n",
       "    <tr>\n",
       "      <th>4</th>\n",
       "      <td>2</td>\n",
       "      <td>1</td>\n",
       "      <td>0.600000</td>\n",
       "      <td>0.2449</td>\n",
       "      <td>0.835</td>\n",
       "      <td>0</td>\n",
       "    </tr>\n",
       "    <tr>\n",
       "      <th>...</th>\n",
       "      <td>...</td>\n",
       "      <td>...</td>\n",
       "      <td>...</td>\n",
       "      <td>...</td>\n",
       "      <td>...</td>\n",
       "      <td>...</td>\n",
       "    </tr>\n",
       "    <tr>\n",
       "      <th>44868</th>\n",
       "      <td>1</td>\n",
       "      <td>3</td>\n",
       "      <td>0.666667</td>\n",
       "      <td>-0.3818</td>\n",
       "      <td>0.580</td>\n",
       "      <td>1</td>\n",
       "    </tr>\n",
       "    <tr>\n",
       "      <th>44869</th>\n",
       "      <td>1</td>\n",
       "      <td>3</td>\n",
       "      <td>0.000000</td>\n",
       "      <td>0.5267</td>\n",
       "      <td>0.764</td>\n",
       "      <td>1</td>\n",
       "    </tr>\n",
       "    <tr>\n",
       "      <th>44870</th>\n",
       "      <td>1</td>\n",
       "      <td>3</td>\n",
       "      <td>0.500000</td>\n",
       "      <td>0.4404</td>\n",
       "      <td>0.838</td>\n",
       "      <td>1</td>\n",
       "    </tr>\n",
       "    <tr>\n",
       "      <th>44871</th>\n",
       "      <td>3</td>\n",
       "      <td>2</td>\n",
       "      <td>0.250000</td>\n",
       "      <td>0.0000</td>\n",
       "      <td>1.000</td>\n",
       "      <td>1</td>\n",
       "    </tr>\n",
       "    <tr>\n",
       "      <th>44872</th>\n",
       "      <td>1</td>\n",
       "      <td>3</td>\n",
       "      <td>0.600000</td>\n",
       "      <td>0.0000</td>\n",
       "      <td>1.000</td>\n",
       "      <td>1</td>\n",
       "    </tr>\n",
       "  </tbody>\n",
       "</table>\n",
       "<p>44873 rows × 6 columns</p>\n",
       "</div>"
      ],
      "text/plain": [
       "       verb_count  proper_noun_count  emotiveness  compound  neutral  label\n",
       "0               2                  2     0.200000   -0.4939    0.656      0\n",
       "1               1                  3     1.000000    0.3818    0.755      0\n",
       "2               1                  5     0.500000    0.0000    1.000      0\n",
       "3               1                  2     0.200000    0.0000    1.000      0\n",
       "4               2                  1     0.600000    0.2449    0.835      0\n",
       "...           ...                ...          ...       ...      ...    ...\n",
       "44868           1                  3     0.666667   -0.3818    0.580      1\n",
       "44869           1                  3     0.000000    0.5267    0.764      1\n",
       "44870           1                  3     0.500000    0.4404    0.838      1\n",
       "44871           3                  2     0.250000    0.0000    1.000      1\n",
       "44872           1                  3     0.600000    0.0000    1.000      1\n",
       "\n",
       "[44873 rows x 6 columns]"
      ]
     },
     "execution_count": 3,
     "metadata": {},
     "output_type": "execute_result"
    }
   ],
   "source": [
    "df = pd.read_csv('selected_features.csv')\n",
    "df"
   ]
  },
  {
   "cell_type": "code",
   "execution_count": 4,
   "id": "43852f08",
   "metadata": {},
   "outputs": [],
   "source": [
    "df = df.sample(frac = 1, random_state=42)\n",
    "X = df.loc[:,['verb_count',\n",
    " 'proper_noun_count',\n",
    " 'emotiveness',\n",
    " 'compound',\n",
    " 'neutral']]\n",
    "y=df.label"
   ]
  },
  {
   "cell_type": "code",
   "execution_count": 5,
   "id": "dd889729",
   "metadata": {},
   "outputs": [],
   "source": [
    "df_ass = df"
   ]
  },
  {
   "cell_type": "code",
   "execution_count": 6,
   "id": "82f4d42c",
   "metadata": {},
   "outputs": [],
   "source": [
    "df_ass = df_ass.drop(df_ass[df_ass.compound == 0].index)\n",
    "df_ass = df_ass.drop(df_ass[df_ass.emotiveness == 0].index)\n",
    "df_ass = df_ass.drop(df_ass[df_ass.verb_count == 0].index)\n",
    "df_ass = df_ass.drop(df_ass[df_ass.proper_noun_count == 0].index)\n",
    "\n",
    "df_ass['compound'] = df.compound.abs()\n"
   ]
  },
  {
   "cell_type": "code",
   "execution_count": 7,
   "id": "279c49de",
   "metadata": {},
   "outputs": [
    {
     "data": {
      "text/plain": [
       "(44873, 6)"
      ]
     },
     "execution_count": 7,
     "metadata": {},
     "output_type": "execute_result"
    }
   ],
   "source": [
    "df.shape"
   ]
  },
  {
   "cell_type": "code",
   "execution_count": 8,
   "id": "96722a54",
   "metadata": {},
   "outputs": [
    {
     "data": {
      "text/plain": [
       "(22767, 6)"
      ]
     },
     "execution_count": 8,
     "metadata": {},
     "output_type": "execute_result"
    }
   ],
   "source": [
    "df_ass.shape"
   ]
  },
  {
   "cell_type": "code",
   "execution_count": 9,
   "id": "af2169fb",
   "metadata": {},
   "outputs": [],
   "source": [
    "variables = df_ass.columns[:-1]"
   ]
  },
  {
   "cell_type": "code",
   "execution_count": 10,
   "id": "523cff65",
   "metadata": {},
   "outputs": [],
   "source": [
    "for var in variables:\n",
    "    df_ass[f'{var}:Log_{var}'] = df_ass[var].apply(lambda x:x * np.log(x))"
   ]
  },
  {
   "cell_type": "code",
   "execution_count": 12,
   "id": "1c9d02e5",
   "metadata": {},
   "outputs": [],
   "source": [
    "y = df_ass.pop('label')"
   ]
  },
  {
   "cell_type": "code",
   "execution_count": 14,
   "id": "530f92ef",
   "metadata": {},
   "outputs": [],
   "source": [
    "X = df_ass"
   ]
  },
  {
   "cell_type": "code",
   "execution_count": 20,
   "id": "78136dd0",
   "metadata": {},
   "outputs": [],
   "source": [
    "X_constant = sm.add_constant(X, prepend=False)"
   ]
  },
  {
   "cell_type": "code",
   "execution_count": 23,
   "id": "ac2ef840",
   "metadata": {},
   "outputs": [],
   "source": [
    "logit_results = GLM(y, X_constant, family=families.Binomial()).fit()"
   ]
  },
  {
   "cell_type": "code",
   "execution_count": 24,
   "id": "3784d5ae",
   "metadata": {},
   "outputs": [
    {
     "name": "stdout",
     "output_type": "stream",
     "text": [
      "                 Generalized Linear Model Regression Results                  \n",
      "==============================================================================\n",
      "Dep. Variable:                  label   No. Observations:                22767\n",
      "Model:                            GLM   Df Residuals:                    22756\n",
      "Model Family:                Binomial   Df Model:                           10\n",
      "Link Function:                  Logit   Scale:                          1.0000\n",
      "Method:                          IRLS   Log-Likelihood:                -8951.0\n",
      "Date:                Wed, 02 Nov 2022   Deviance:                       17902.\n",
      "Time:                        15:51:21   Pearson chi2:                 1.85e+04\n",
      "No. Iterations:                     8   Pseudo R-squ. (CS):             0.3651\n",
      "Covariance Type:            nonrobust                                         \n",
      "===========================================================================================================\n",
      "                                              coef    std err          z      P>|z|      [0.025      0.975]\n",
      "-----------------------------------------------------------------------------------------------------------\n",
      "verb_count                                  0.7285      0.148      4.906      0.000       0.437       1.020\n",
      "proper_noun_count                          -0.9708      0.106     -9.162      0.000      -1.178      -0.763\n",
      "emotiveness                                 1.2911      0.104     12.410      0.000       1.087       1.495\n",
      "compound                                    1.7642      0.096     18.301      0.000       1.575       1.953\n",
      "neutral                                    -0.2209      0.718     -0.308      0.758      -1.629       1.187\n",
      "verb_count:Log_verb_count                   0.1969      0.083      2.365      0.018       0.034       0.360\n",
      "proper_noun_count:Log_proper_noun_count     0.7578      0.051     14.851      0.000       0.658       0.858\n",
      "emotiveness:Log_emotiveness                -0.4566      0.159     -2.878      0.004      -0.767      -0.146\n",
      "compound:Log_compound                       3.3743      0.275     12.249      0.000       2.834       3.914\n",
      "neutral:Log_neutral                         2.8175      1.214      2.322      0.020       0.439       5.196\n",
      "const                                      -0.7372      0.800     -0.921      0.357      -2.306       0.831\n",
      "===========================================================================================================\n"
     ]
    }
   ],
   "source": [
    "# Display summary results\n",
    "print(logit_results.summary())"
   ]
  },
  {
   "cell_type": "code",
   "execution_count": null,
   "id": "3159bcc5",
   "metadata": {},
   "outputs": [],
   "source": []
  }
 ],
 "metadata": {
  "kernelspec": {
   "display_name": "Python 3 (ipykernel)",
   "language": "python",
   "name": "python3"
  },
  "language_info": {
   "codemirror_mode": {
    "name": "ipython",
    "version": 3
   },
   "file_extension": ".py",
   "mimetype": "text/x-python",
   "name": "python",
   "nbconvert_exporter": "python",
   "pygments_lexer": "ipython3",
   "version": "3.9.13"
  }
 },
 "nbformat": 4,
 "nbformat_minor": 5
}
