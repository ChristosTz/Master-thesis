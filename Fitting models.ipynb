{
 "cells": [
  {
   "cell_type": "code",
   "execution_count": 11,
   "id": "469c93e7",
   "metadata": {},
   "outputs": [],
   "source": [
    "import numpy as np\n",
    "import pandas as pd\n",
    "import matplotlib.pyplot as plt\n",
    "import seaborn as sns"
   ]
  },
  {
   "cell_type": "code",
   "execution_count": 12,
   "id": "29e58d39",
   "metadata": {},
   "outputs": [],
   "source": [
    "df = pd.read_csv('dataset with sentiment.csv')"
   ]
  },
  {
   "cell_type": "code",
   "execution_count": 13,
   "id": "af60836d",
   "metadata": {},
   "outputs": [],
   "source": [
    "df.replace([np.inf, -np.inf], np.nan, inplace=True)\n"
   ]
  },
  {
   "cell_type": "code",
   "execution_count": 14,
   "id": "d45fa21f",
   "metadata": {},
   "outputs": [],
   "source": [
    "#Find any nan values\n",
    "nan = df.loc[pd.isna(df).any(1), :].index\n"
   ]
  },
  {
   "cell_type": "code",
   "execution_count": 15,
   "id": "b2ec2fc5",
   "metadata": {},
   "outputs": [],
   "source": [
    "#Remove nan rows\n",
    "for x in nan:\n",
    "    df = df.drop(index = x, axis = 1)"
   ]
  },
  {
   "cell_type": "code",
   "execution_count": 16,
   "id": "a4bf914e",
   "metadata": {},
   "outputs": [
    {
     "data": {
      "text/plain": [
       "Int64Index([], dtype='int64')"
      ]
     },
     "execution_count": 16,
     "metadata": {},
     "output_type": "execute_result"
    }
   ],
   "source": [
    "df.loc[pd.isna(df).any(1), :].index"
   ]
  },
  {
   "cell_type": "code",
   "execution_count": 17,
   "id": "6c31b47e",
   "metadata": {},
   "outputs": [],
   "source": [
    "#df['compound'] = np.abs(df.compound)"
   ]
  },
  {
   "cell_type": "code",
   "execution_count": 53,
   "id": "9588766e",
   "metadata": {},
   "outputs": [
    {
     "data": {
      "text/plain": [
       "25"
      ]
     },
     "execution_count": 53,
     "metadata": {},
     "output_type": "execute_result"
    }
   ],
   "source": [
    "len(nan)"
   ]
  },
  {
   "cell_type": "code",
   "execution_count": 19,
   "id": "50015a1b",
   "metadata": {},
   "outputs": [],
   "source": [
    "df.to_csv('final dataset with all features.csv', index=False)"
   ]
  },
  {
   "cell_type": "code",
   "execution_count": 20,
   "id": "c2992142",
   "metadata": {},
   "outputs": [],
   "source": [
    "df = df.sample(frac = 1)"
   ]
  },
  {
   "cell_type": "code",
   "execution_count": 21,
   "id": "1d22fcba",
   "metadata": {},
   "outputs": [],
   "source": [
    "correlation = df.iloc[:,5:]"
   ]
  },
  {
   "cell_type": "code",
   "execution_count": 22,
   "id": "8fa42854",
   "metadata": {},
   "outputs": [],
   "source": [
    "correlation['target variable'] = df.label"
   ]
  },
  {
   "cell_type": "code",
   "execution_count": 23,
   "id": "7a6387ef",
   "metadata": {},
   "outputs": [],
   "source": [
    "corr = correlation.corr()"
   ]
  },
  {
   "cell_type": "code",
   "execution_count": 24,
   "id": "b1e3ff09",
   "metadata": {},
   "outputs": [
    {
     "data": {
      "text/html": [
       "<div>\n",
       "<style scoped>\n",
       "    .dataframe tbody tr th:only-of-type {\n",
       "        vertical-align: middle;\n",
       "    }\n",
       "\n",
       "    .dataframe tbody tr th {\n",
       "        vertical-align: top;\n",
       "    }\n",
       "\n",
       "    .dataframe thead th {\n",
       "        text-align: right;\n",
       "    }\n",
       "</style>\n",
       "<table border=\"1\" class=\"dataframe\">\n",
       "  <thead>\n",
       "    <tr style=\"text-align: right;\">\n",
       "      <th></th>\n",
       "      <th>word_count</th>\n",
       "      <th>modal_count</th>\n",
       "      <th>verb_count</th>\n",
       "      <th>adjective_count</th>\n",
       "      <th>adverb_count</th>\n",
       "      <th>proper_noun_count</th>\n",
       "      <th>noun_count</th>\n",
       "      <th>emotiveness</th>\n",
       "      <th>modifiers</th>\n",
       "      <th>compound</th>\n",
       "      <th>positive</th>\n",
       "      <th>negative</th>\n",
       "      <th>neutral</th>\n",
       "      <th>target variable</th>\n",
       "    </tr>\n",
       "  </thead>\n",
       "  <tbody>\n",
       "    <tr>\n",
       "      <th>word_count</th>\n",
       "      <td>1.000000</td>\n",
       "      <td>0.102144</td>\n",
       "      <td>0.687446</td>\n",
       "      <td>0.452867</td>\n",
       "      <td>0.286583</td>\n",
       "      <td>0.545747</td>\n",
       "      <td>0.551014</td>\n",
       "      <td>0.052622</td>\n",
       "      <td>0.514209</td>\n",
       "      <td>-0.076624</td>\n",
       "      <td>0.007003</td>\n",
       "      <td>0.022318</td>\n",
       "      <td>-0.024809</td>\n",
       "      <td>0.628362</td>\n",
       "    </tr>\n",
       "    <tr>\n",
       "      <th>modal_count</th>\n",
       "      <td>0.102144</td>\n",
       "      <td>1.000000</td>\n",
       "      <td>0.151863</td>\n",
       "      <td>0.005269</td>\n",
       "      <td>0.076760</td>\n",
       "      <td>-0.016175</td>\n",
       "      <td>-0.046586</td>\n",
       "      <td>0.000720</td>\n",
       "      <td>0.039470</td>\n",
       "      <td>0.039326</td>\n",
       "      <td>0.006943</td>\n",
       "      <td>-0.060778</td>\n",
       "      <td>0.049440</td>\n",
       "      <td>0.010795</td>\n",
       "    </tr>\n",
       "    <tr>\n",
       "      <th>verb_count</th>\n",
       "      <td>0.687446</td>\n",
       "      <td>0.151863</td>\n",
       "      <td>1.000000</td>\n",
       "      <td>0.211018</td>\n",
       "      <td>0.236608</td>\n",
       "      <td>0.240314</td>\n",
       "      <td>0.180891</td>\n",
       "      <td>-0.109344</td>\n",
       "      <td>0.286609</td>\n",
       "      <td>-0.069522</td>\n",
       "      <td>0.010851</td>\n",
       "      <td>0.040983</td>\n",
       "      <td>-0.044136</td>\n",
       "      <td>0.462410</td>\n",
       "    </tr>\n",
       "    <tr>\n",
       "      <th>adjective_count</th>\n",
       "      <td>0.452867</td>\n",
       "      <td>0.005269</td>\n",
       "      <td>0.211018</td>\n",
       "      <td>1.000000</td>\n",
       "      <td>0.096910</td>\n",
       "      <td>0.056761</td>\n",
       "      <td>0.268114</td>\n",
       "      <td>0.625433</td>\n",
       "      <td>0.891041</td>\n",
       "      <td>-0.043370</td>\n",
       "      <td>0.067773</td>\n",
       "      <td>0.060957</td>\n",
       "      <td>-0.101560</td>\n",
       "      <td>0.304272</td>\n",
       "    </tr>\n",
       "    <tr>\n",
       "      <th>adverb_count</th>\n",
       "      <td>0.286583</td>\n",
       "      <td>0.076760</td>\n",
       "      <td>0.236608</td>\n",
       "      <td>0.096910</td>\n",
       "      <td>1.000000</td>\n",
       "      <td>0.070008</td>\n",
       "      <td>-0.011161</td>\n",
       "      <td>0.411418</td>\n",
       "      <td>0.538138</td>\n",
       "      <td>0.000583</td>\n",
       "      <td>0.011507</td>\n",
       "      <td>-0.012324</td>\n",
       "      <td>0.003004</td>\n",
       "      <td>0.255177</td>\n",
       "    </tr>\n",
       "    <tr>\n",
       "      <th>proper_noun_count</th>\n",
       "      <td>0.545747</td>\n",
       "      <td>-0.016175</td>\n",
       "      <td>0.240314</td>\n",
       "      <td>0.056761</td>\n",
       "      <td>0.070008</td>\n",
       "      <td>1.000000</td>\n",
       "      <td>0.011404</td>\n",
       "      <td>-0.007574</td>\n",
       "      <td>0.079997</td>\n",
       "      <td>0.005254</td>\n",
       "      <td>-0.009309</td>\n",
       "      <td>-0.059364</td>\n",
       "      <td>0.059473</td>\n",
       "      <td>0.393666</td>\n",
       "    </tr>\n",
       "    <tr>\n",
       "      <th>noun_count</th>\n",
       "      <td>0.551014</td>\n",
       "      <td>-0.046586</td>\n",
       "      <td>0.180891</td>\n",
       "      <td>0.268114</td>\n",
       "      <td>-0.011161</td>\n",
       "      <td>0.011404</td>\n",
       "      <td>1.000000</td>\n",
       "      <td>-0.215849</td>\n",
       "      <td>0.221961</td>\n",
       "      <td>-0.098831</td>\n",
       "      <td>0.020479</td>\n",
       "      <td>0.095856</td>\n",
       "      <td>-0.099842</td>\n",
       "      <td>0.268902</td>\n",
       "    </tr>\n",
       "    <tr>\n",
       "      <th>emotiveness</th>\n",
       "      <td>0.052622</td>\n",
       "      <td>0.000720</td>\n",
       "      <td>-0.109344</td>\n",
       "      <td>0.625433</td>\n",
       "      <td>0.411418</td>\n",
       "      <td>-0.007574</td>\n",
       "      <td>-0.215849</td>\n",
       "      <td>1.000000</td>\n",
       "      <td>0.717279</td>\n",
       "      <td>0.020514</td>\n",
       "      <td>0.049893</td>\n",
       "      <td>0.002268</td>\n",
       "      <td>-0.036714</td>\n",
       "      <td>0.120762</td>\n",
       "    </tr>\n",
       "    <tr>\n",
       "      <th>modifiers</th>\n",
       "      <td>0.514209</td>\n",
       "      <td>0.039470</td>\n",
       "      <td>0.286609</td>\n",
       "      <td>0.891041</td>\n",
       "      <td>0.538138</td>\n",
       "      <td>0.079997</td>\n",
       "      <td>0.221961</td>\n",
       "      <td>0.717279</td>\n",
       "      <td>1.000000</td>\n",
       "      <td>-0.036462</td>\n",
       "      <td>0.062641</td>\n",
       "      <td>0.046001</td>\n",
       "      <td>-0.084635</td>\n",
       "      <td>0.374049</td>\n",
       "    </tr>\n",
       "    <tr>\n",
       "      <th>compound</th>\n",
       "      <td>-0.076624</td>\n",
       "      <td>0.039326</td>\n",
       "      <td>-0.069522</td>\n",
       "      <td>-0.043370</td>\n",
       "      <td>0.000583</td>\n",
       "      <td>0.005254</td>\n",
       "      <td>-0.098831</td>\n",
       "      <td>0.020514</td>\n",
       "      <td>-0.036462</td>\n",
       "      <td>1.000000</td>\n",
       "      <td>0.673354</td>\n",
       "      <td>-0.798790</td>\n",
       "      <td>0.245230</td>\n",
       "      <td>-0.107434</td>\n",
       "    </tr>\n",
       "    <tr>\n",
       "      <th>positive</th>\n",
       "      <td>0.007003</td>\n",
       "      <td>0.006943</td>\n",
       "      <td>0.010851</td>\n",
       "      <td>0.067773</td>\n",
       "      <td>0.011507</td>\n",
       "      <td>-0.009309</td>\n",
       "      <td>0.020479</td>\n",
       "      <td>0.049893</td>\n",
       "      <td>0.062641</td>\n",
       "      <td>0.673354</td>\n",
       "      <td>1.000000</td>\n",
       "      <td>-0.225945</td>\n",
       "      <td>-0.493334</td>\n",
       "      <td>0.007074</td>\n",
       "    </tr>\n",
       "    <tr>\n",
       "      <th>negative</th>\n",
       "      <td>0.022318</td>\n",
       "      <td>-0.060778</td>\n",
       "      <td>0.040983</td>\n",
       "      <td>0.060957</td>\n",
       "      <td>-0.012324</td>\n",
       "      <td>-0.059364</td>\n",
       "      <td>0.095856</td>\n",
       "      <td>0.002268</td>\n",
       "      <td>0.046001</td>\n",
       "      <td>-0.798790</td>\n",
       "      <td>-0.225945</td>\n",
       "      <td>1.000000</td>\n",
       "      <td>-0.735879</td>\n",
       "      <td>0.097544</td>\n",
       "    </tr>\n",
       "    <tr>\n",
       "      <th>neutral</th>\n",
       "      <td>-0.024809</td>\n",
       "      <td>0.049440</td>\n",
       "      <td>-0.044136</td>\n",
       "      <td>-0.101560</td>\n",
       "      <td>0.003004</td>\n",
       "      <td>0.059473</td>\n",
       "      <td>-0.099842</td>\n",
       "      <td>-0.036714</td>\n",
       "      <td>-0.084635</td>\n",
       "      <td>0.245230</td>\n",
       "      <td>-0.493334</td>\n",
       "      <td>-0.735879</td>\n",
       "      <td>1.000000</td>\n",
       "      <td>-0.092023</td>\n",
       "    </tr>\n",
       "    <tr>\n",
       "      <th>target variable</th>\n",
       "      <td>0.628362</td>\n",
       "      <td>0.010795</td>\n",
       "      <td>0.462410</td>\n",
       "      <td>0.304272</td>\n",
       "      <td>0.255177</td>\n",
       "      <td>0.393666</td>\n",
       "      <td>0.268902</td>\n",
       "      <td>0.120762</td>\n",
       "      <td>0.374049</td>\n",
       "      <td>-0.107434</td>\n",
       "      <td>0.007074</td>\n",
       "      <td>0.097544</td>\n",
       "      <td>-0.092023</td>\n",
       "      <td>1.000000</td>\n",
       "    </tr>\n",
       "  </tbody>\n",
       "</table>\n",
       "</div>"
      ],
      "text/plain": [
       "                   word_count  modal_count  verb_count  adjective_count  \\\n",
       "word_count           1.000000     0.102144    0.687446         0.452867   \n",
       "modal_count          0.102144     1.000000    0.151863         0.005269   \n",
       "verb_count           0.687446     0.151863    1.000000         0.211018   \n",
       "adjective_count      0.452867     0.005269    0.211018         1.000000   \n",
       "adverb_count         0.286583     0.076760    0.236608         0.096910   \n",
       "proper_noun_count    0.545747    -0.016175    0.240314         0.056761   \n",
       "noun_count           0.551014    -0.046586    0.180891         0.268114   \n",
       "emotiveness          0.052622     0.000720   -0.109344         0.625433   \n",
       "modifiers            0.514209     0.039470    0.286609         0.891041   \n",
       "compound            -0.076624     0.039326   -0.069522        -0.043370   \n",
       "positive             0.007003     0.006943    0.010851         0.067773   \n",
       "negative             0.022318    -0.060778    0.040983         0.060957   \n",
       "neutral             -0.024809     0.049440   -0.044136        -0.101560   \n",
       "target variable      0.628362     0.010795    0.462410         0.304272   \n",
       "\n",
       "                   adverb_count  proper_noun_count  noun_count  emotiveness  \\\n",
       "word_count             0.286583           0.545747    0.551014     0.052622   \n",
       "modal_count            0.076760          -0.016175   -0.046586     0.000720   \n",
       "verb_count             0.236608           0.240314    0.180891    -0.109344   \n",
       "adjective_count        0.096910           0.056761    0.268114     0.625433   \n",
       "adverb_count           1.000000           0.070008   -0.011161     0.411418   \n",
       "proper_noun_count      0.070008           1.000000    0.011404    -0.007574   \n",
       "noun_count            -0.011161           0.011404    1.000000    -0.215849   \n",
       "emotiveness            0.411418          -0.007574   -0.215849     1.000000   \n",
       "modifiers              0.538138           0.079997    0.221961     0.717279   \n",
       "compound               0.000583           0.005254   -0.098831     0.020514   \n",
       "positive               0.011507          -0.009309    0.020479     0.049893   \n",
       "negative              -0.012324          -0.059364    0.095856     0.002268   \n",
       "neutral                0.003004           0.059473   -0.099842    -0.036714   \n",
       "target variable        0.255177           0.393666    0.268902     0.120762   \n",
       "\n",
       "                   modifiers  compound  positive  negative   neutral  \\\n",
       "word_count          0.514209 -0.076624  0.007003  0.022318 -0.024809   \n",
       "modal_count         0.039470  0.039326  0.006943 -0.060778  0.049440   \n",
       "verb_count          0.286609 -0.069522  0.010851  0.040983 -0.044136   \n",
       "adjective_count     0.891041 -0.043370  0.067773  0.060957 -0.101560   \n",
       "adverb_count        0.538138  0.000583  0.011507 -0.012324  0.003004   \n",
       "proper_noun_count   0.079997  0.005254 -0.009309 -0.059364  0.059473   \n",
       "noun_count          0.221961 -0.098831  0.020479  0.095856 -0.099842   \n",
       "emotiveness         0.717279  0.020514  0.049893  0.002268 -0.036714   \n",
       "modifiers           1.000000 -0.036462  0.062641  0.046001 -0.084635   \n",
       "compound           -0.036462  1.000000  0.673354 -0.798790  0.245230   \n",
       "positive            0.062641  0.673354  1.000000 -0.225945 -0.493334   \n",
       "negative            0.046001 -0.798790 -0.225945  1.000000 -0.735879   \n",
       "neutral            -0.084635  0.245230 -0.493334 -0.735879  1.000000   \n",
       "target variable     0.374049 -0.107434  0.007074  0.097544 -0.092023   \n",
       "\n",
       "                   target variable  \n",
       "word_count                0.628362  \n",
       "modal_count               0.010795  \n",
       "verb_count                0.462410  \n",
       "adjective_count           0.304272  \n",
       "adverb_count              0.255177  \n",
       "proper_noun_count         0.393666  \n",
       "noun_count                0.268902  \n",
       "emotiveness               0.120762  \n",
       "modifiers                 0.374049  \n",
       "compound                 -0.107434  \n",
       "positive                  0.007074  \n",
       "negative                  0.097544  \n",
       "neutral                  -0.092023  \n",
       "target variable           1.000000  "
      ]
     },
     "execution_count": 24,
     "metadata": {},
     "output_type": "execute_result"
    }
   ],
   "source": [
    "corr"
   ]
  },
  {
   "cell_type": "code",
   "execution_count": 25,
   "id": "38d7dfcb",
   "metadata": {},
   "outputs": [
    {
     "data": {
      "text/plain": [
       "<AxesSubplot:>"
      ]
     },
     "execution_count": 25,
     "metadata": {},
     "output_type": "execute_result"
    },
    {
     "data": {
      "image/png": "[encoded data removed]",
      "text/plain": [
       "<Figure size 1200x1000 with 2 Axes>"
      ]
     },
     "metadata": {},
     "output_type": "display_data"
    }
   ],
   "source": [
    "# Set up the matplotlib plot configuration\n",
    "#\n",
    "f, ax = plt.subplots(figsize=(12, 10))\n",
    "#\n",
    "# Generate a mask for upper traingle\n",
    "#\n",
    "mask = np.triu(np.ones_like(corr, dtype=bool))\n",
    "#\n",
    "# Configure a custom diverging colormap\n",
    "#\n",
    "cmap = sns.diverging_palette(230, 20, as_cmap=True)\n",
    "#\n",
    "# Draw the heatmap\n",
    "#\n",
    "sns.heatmap(corr, annot=True,mask = mask, cmap=cmap)"
   ]
  },
  {
   "cell_type": "code",
   "execution_count": 31,
   "id": "2a528574",
   "metadata": {},
   "outputs": [],
   "source": [
    "X = df.iloc[:,5:]\n",
    "y = df.label"
   ]
  },
  {
   "cell_type": "code",
   "execution_count": 32,
   "id": "14b2c45e",
   "metadata": {},
   "outputs": [],
   "source": [
    "from sklearn.model_selection import train_test_split\n",
    "X_train, X_test, y_train, y_test = train_test_split(X, y, test_size = 0.25, random_state = 0)"
   ]
  },
  {
   "cell_type": "code",
   "execution_count": 33,
   "id": "56257c5f",
   "metadata": {},
   "outputs": [],
   "source": [
    "from sklearn.preprocessing import StandardScaler\n",
    "sc = StandardScaler()\n",
    "X_train = sc.fit_transform(X_train)\n",
    "X_test = sc.transform(X_test)"
   ]
  },
  {
   "cell_type": "code",
   "execution_count": 34,
   "id": "8c99d8b9",
   "metadata": {},
   "outputs": [
    {
     "data": {
      "text/plain": [
       "KNeighborsClassifier()"
      ]
     },
     "execution_count": 34,
     "metadata": {},
     "output_type": "execute_result"
    }
   ],
   "source": [
    "from sklearn.neighbors import KNeighborsClassifier\n",
    "classifier = KNeighborsClassifier(n_neighbors = 5, metric = 'minkowski', p = 2)\n",
    "classifier.fit(X_train, y_train)"
   ]
  },
  {
   "cell_type": "code",
   "execution_count": 35,
   "id": "bb174215",
   "metadata": {},
   "outputs": [
    {
     "name": "stderr",
     "output_type": "stream",
     "text": [
      "C:\\Users\\xrist\\anaconda3\\lib\\site-packages\\sklearn\\neighbors\\_classification.py:228: FutureWarning: Unlike other reduction functions (e.g. `skew`, `kurtosis`), the default behavior of `mode` typically preserves the axis it acts along. In SciPy 1.11.0, this behavior will change: the default value of `keepdims` will become False, the `axis` over which the statistic is taken will be eliminated, and the value None will no longer be accepted. Set `keepdims` to True or False to avoid this warning.\n",
      "  mode, _ = stats.mode(_y[neigh_ind, k], axis=1)\n"
     ]
    }
   ],
   "source": [
    "y_pred = classifier.predict(X_test)\n"
   ]
  },
  {
   "cell_type": "code",
   "execution_count": 36,
   "id": "7beee5e0",
   "metadata": {},
   "outputs": [],
   "source": [
    "from sklearn.metrics import confusion_matrix,accuracy_score\n",
    "cm = confusion_matrix(y_test, y_pred)\n",
    "ac = accuracy_score(y_test,y_pred)"
   ]
  },
  {
   "cell_type": "code",
   "execution_count": 37,
   "id": "a9318532",
   "metadata": {},
   "outputs": [
    {
     "name": "stdout",
     "output_type": "stream",
     "text": [
      "              precision    recall  f1-score   support\n",
      "\n",
      "           0       0.81      0.89      0.85      5305\n",
      "           1       0.89      0.81      0.85      5914\n",
      "\n",
      "    accuracy                           0.85     11219\n",
      "   macro avg       0.85      0.85      0.85     11219\n",
      "weighted avg       0.85      0.85      0.85     11219\n",
      "\n"
     ]
    }
   ],
   "source": [
    "from sklearn.metrics import classification_report\n",
    "print(classification_report(y_test,y_pred))"
   ]
  },
  {
   "cell_type": "code",
   "execution_count": 38,
   "id": "55817627",
   "metadata": {},
   "outputs": [],
   "source": [
    "from sklearn.naive_bayes import GaussianNB"
   ]
  },
  {
   "cell_type": "code",
   "execution_count": 39,
   "id": "55fd61a4",
   "metadata": {},
   "outputs": [],
   "source": [
    "gnb = GaussianNB()"
   ]
  },
  {
   "cell_type": "code",
   "execution_count": 40,
   "id": "84405fd7",
   "metadata": {},
   "outputs": [
    {
     "data": {
      "text/plain": [
       "GaussianNB()"
      ]
     },
     "execution_count": 40,
     "metadata": {},
     "output_type": "execute_result"
    }
   ],
   "source": [
    "gnb.fit(X_train, y_train)"
   ]
  },
  {
   "cell_type": "code",
   "execution_count": 41,
   "id": "c0bd10fd",
   "metadata": {},
   "outputs": [],
   "source": [
    "y_pred = gnb.predict(X_test)"
   ]
  },
  {
   "cell_type": "code",
   "execution_count": 42,
   "id": "49204f7e",
   "metadata": {},
   "outputs": [
    {
     "name": "stdout",
     "output_type": "stream",
     "text": [
      "              precision    recall  f1-score   support\n",
      "\n",
      "           0       0.78      0.92      0.84      5305\n",
      "           1       0.91      0.77      0.84      5914\n",
      "\n",
      "    accuracy                           0.84     11219\n",
      "   macro avg       0.85      0.84      0.84     11219\n",
      "weighted avg       0.85      0.84      0.84     11219\n",
      "\n"
     ]
    }
   ],
   "source": [
    "print(classification_report(y_test,y_pred))"
   ]
  },
  {
   "cell_type": "code",
   "execution_count": 43,
   "id": "3bb3cc71",
   "metadata": {},
   "outputs": [
    {
     "name": "stderr",
     "output_type": "stream",
     "text": [
      "C:\\Users\\xrist\\anaconda3\\lib\\site-packages\\statsmodels\\stats\\outliers_influence.py:195: RuntimeWarning: divide by zero encountered in double_scalars\n",
      "  vif = 1. / (1. - r_squared_i)\n"
     ]
    }
   ],
   "source": [
    "from statsmodels.stats.outliers_influence import variance_inflation_factor\n",
    "\n",
    "vif_data = pd.DataFrame()\n",
    "vif_data[\"feature\"] = X.columns\n",
    "  \n",
    "# calculating VIF for each feature\n",
    "vif_data[\"VIF\"] = [variance_inflation_factor(X.values, i)\n",
    "                          for i in range(len(X.columns))]"
   ]
  },
  {
   "cell_type": "code",
   "execution_count": 45,
   "id": "8756f2a4",
   "metadata": {},
   "outputs": [
    {
     "name": "stdout",
     "output_type": "stream",
     "text": [
      "Requirement already satisfied: tabulate in c:\\users\\xrist\\anaconda3\\lib\\site-packages (0.8.10)Note: you may need to restart the kernel to use updated packages.\n",
      "\n"
     ]
    }
   ],
   "source": [
    "pip install tabulate\n"
   ]
  },
  {
   "cell_type": "code",
   "execution_count": 47,
   "id": "1cf89d97",
   "metadata": {},
   "outputs": [
    {
     "name": "stdout",
     "output_type": "stream",
     "text": [
      "+----+-------------------+-----------+\n",
      "|    | feature           |       VIF |\n",
      "+====+===================+===========+\n",
      "|  0 | word_count        |  72.4472  |\n",
      "+----+-------------------+-----------+\n",
      "|  1 | modal_count       |   1.18804 |\n",
      "+----+-------------------+-----------+\n",
      "|  2 | verb_count        |   9.85789 |\n",
      "+----+-------------------+-----------+\n",
      "|  3 | adjective_count   | inf       |\n",
      "+----+-------------------+-----------+\n",
      "|  4 | adverb_count      | inf       |\n",
      "+----+-------------------+-----------+\n",
      "|  5 | proper_noun_count |   9.66666 |\n",
      "+----+-------------------+-----------+\n",
      "|  6 | noun_count        |  15.6163  |\n",
      "+----+-------------------+-----------+\n",
      "|  7 | emotiveness       |   7.62702 |\n",
      "+----+-------------------+-----------+\n",
      "|  8 | modifiers         | inf       |\n",
      "+----+-------------------+-----------+\n",
      "|  9 | compound          |  10.6155  |\n",
      "+----+-------------------+-----------+\n",
      "| 10 | positive          |   5.84988 |\n",
      "+----+-------------------+-----------+\n",
      "| 11 | negative          |   9.7359  |\n",
      "+----+-------------------+-----------+\n",
      "| 12 | neutral           |   9.65212 |\n",
      "+----+-------------------+-----------+\n"
     ]
    }
   ],
   "source": [
    "from tabulate import tabulate\n",
    "print(tabulate(vif_data, headers=['feature', 'VIF'], tablefmt=\"grid\", showindex=\"always\"))"
   ]
  },
  {
   "cell_type": "code",
   "execution_count": 52,
   "id": "b1649f3b",
   "metadata": {},
   "outputs": [
    {
     "data": {
      "text/html": [
       "<div>\n",
       "<style scoped>\n",
       "    .dataframe tbody tr th:only-of-type {\n",
       "        vertical-align: middle;\n",
       "    }\n",
       "\n",
       "    .dataframe tbody tr th {\n",
       "        vertical-align: top;\n",
       "    }\n",
       "\n",
       "    .dataframe thead th {\n",
       "        text-align: right;\n",
       "    }\n",
       "</style>\n",
       "<table border=\"1\" class=\"dataframe\">\n",
       "  <thead>\n",
       "    <tr style=\"text-align: right;\">\n",
       "      <th></th>\n",
       "      <th>feature</th>\n",
       "      <th>VIF</th>\n",
       "    </tr>\n",
       "  </thead>\n",
       "  <tbody>\n",
       "    <tr>\n",
       "      <th>0</th>\n",
       "      <td>word_count</td>\n",
       "      <td>72.447245</td>\n",
       "    </tr>\n",
       "    <tr>\n",
       "      <th>1</th>\n",
       "      <td>modal_count</td>\n",
       "      <td>1.188045</td>\n",
       "    </tr>\n",
       "    <tr>\n",
       "      <th>2</th>\n",
       "      <td>verb_count</td>\n",
       "      <td>9.857887</td>\n",
       "    </tr>\n",
       "    <tr>\n",
       "      <th>3</th>\n",
       "      <td>adjective_count</td>\n",
       "      <td>inf</td>\n",
       "    </tr>\n",
       "    <tr>\n",
       "      <th>4</th>\n",
       "      <td>adverb_count</td>\n",
       "      <td>inf</td>\n",
       "    </tr>\n",
       "    <tr>\n",
       "      <th>5</th>\n",
       "      <td>proper_noun_count</td>\n",
       "      <td>9.666655</td>\n",
       "    </tr>\n",
       "    <tr>\n",
       "      <th>6</th>\n",
       "      <td>noun_count</td>\n",
       "      <td>15.616274</td>\n",
       "    </tr>\n",
       "    <tr>\n",
       "      <th>7</th>\n",
       "      <td>emotiveness</td>\n",
       "      <td>7.627022</td>\n",
       "    </tr>\n",
       "    <tr>\n",
       "      <th>8</th>\n",
       "      <td>modifiers</td>\n",
       "      <td>inf</td>\n",
       "    </tr>\n",
       "    <tr>\n",
       "      <th>9</th>\n",
       "      <td>compound</td>\n",
       "      <td>10.615548</td>\n",
       "    </tr>\n",
       "    <tr>\n",
       "      <th>10</th>\n",
       "      <td>positive</td>\n",
       "      <td>5.849881</td>\n",
       "    </tr>\n",
       "    <tr>\n",
       "      <th>11</th>\n",
       "      <td>negative</td>\n",
       "      <td>9.735895</td>\n",
       "    </tr>\n",
       "    <tr>\n",
       "      <th>12</th>\n",
       "      <td>neutral</td>\n",
       "      <td>9.652121</td>\n",
       "    </tr>\n",
       "  </tbody>\n",
       "</table>\n",
       "</div>"
      ],
      "text/plain": [
       "              feature        VIF\n",
       "0          word_count  72.447245\n",
       "1         modal_count   1.188045\n",
       "2          verb_count   9.857887\n",
       "3     adjective_count        inf\n",
       "4        adverb_count        inf\n",
       "5   proper_noun_count   9.666655\n",
       "6          noun_count  15.616274\n",
       "7         emotiveness   7.627022\n",
       "8           modifiers        inf\n",
       "9            compound  10.615548\n",
       "10           positive   5.849881\n",
       "11           negative   9.735895\n",
       "12            neutral   9.652121"
      ]
     },
     "execution_count": 52,
     "metadata": {},
     "output_type": "execute_result"
    }
   ],
   "source": [
    "vif_data"
   ]
  },
  {
   "cell_type": "code",
   "execution_count": null,
   "id": "c55cf16d",
   "metadata": {},
   "outputs": [],
   "source": [
    "sample = df['title'].iloc[:250]"
   ]
  },
  {
   "cell_type": "code",
   "execution_count": null,
   "id": "dd50a3e3",
   "metadata": {},
   "outputs": [],
   "source": [
    "sample"
   ]
  },
  {
   "cell_type": "code",
   "execution_count": null,
   "id": "55d7ccef",
   "metadata": {},
   "outputs": [],
   "source": [
    "sample.to_csv('analyse.txt', sep='\\t')  \n",
    "\n"
   ]
  },
  {
   "cell_type": "code",
   "execution_count": null,
   "id": "67f12f87",
   "metadata": {},
   "outputs": [],
   "source": [
    "from sklearn.feature_extraction.text import TfidfVectorizer"
   ]
  },
  {
   "cell_type": "code",
   "execution_count": null,
   "id": "c54c5c23",
   "metadata": {},
   "outputs": [],
   "source": [
    "vectorizer = TfidfVectorizer()\n",
    "X = vectorizer.fit_transform(df['token_data'])"
   ]
  },
  {
   "cell_type": "code",
   "execution_count": null,
   "id": "f35485c8",
   "metadata": {},
   "outputs": [],
   "source": [
    "X"
   ]
  },
  {
   "cell_type": "code",
   "execution_count": null,
   "id": "55d90914",
   "metadata": {},
   "outputs": [],
   "source": [
    "from sklearn.feature_extraction.text import CountVectorizer\n",
    "from sklearn.feature_extraction.text import TfidfTransformer\n",
    "import numpy as np\n",
    "#https://scikit-learn.org/stable/modules/generated/sklearn.feature_extraction.text.CountVectorizer.html\n",
    "countVec = CountVectorizer(max_features= 5000, stop_words='english', min_df=.01, max_df=.90)\n",
    "\n",
    "#%%\n",
    "#use CountVectorizer.fit(self, raw_documents[, y] to learn vocabulary dictionary of all tokens in raw documents\n",
    "#raw documents in this case will betweetsFrameWords[\"Text\"] (processed text)\n",
    "countVec.fit(df[\"title\"])\n",
    "#useful debug, get an idea of the item list you generated\n",
    "list(countVec.vocabulary_.items())"
   ]
  },
  {
   "cell_type": "code",
   "execution_count": null,
   "id": "5771c57f",
   "metadata": {},
   "outputs": [],
   "source": [
    "#%%\n",
    "#convert to bag of words\n",
    "#sparse matrix representation? (README: could use an edit/explanation)\n",
    "countVec_count = countVec.transform(df[\"token_data\"])"
   ]
  },
  {
   "cell_type": "code",
   "execution_count": null,
   "id": "90fc8928",
   "metadata": {},
   "outputs": [],
   "source": [
    "#%%\n",
    "#make array from number of occurrences\n",
    "occ = np.asarray(countVec_count.sum(axis=0)).ravel().tolist()"
   ]
  },
  {
   "cell_type": "code",
   "execution_count": null,
   "id": "3b660cf4",
   "metadata": {},
   "outputs": [],
   "source": [
    "#make a new data frame with columns term and occurrences, meaning word and number of occurences\n",
    "bowListFrame = pd.DataFrame({'term': countVec.get_feature_names_out(), 'occurrences': occ})\n",
    "print(bowListFrame)"
   ]
  },
  {
   "cell_type": "code",
   "execution_count": null,
   "id": "d462919e",
   "metadata": {},
   "outputs": [],
   "source": [
    "#sort in order of number of word occurences, most->least. if you leave of ascending flag should default ASC\n",
    "bowListFrame.sort_values(by='occurrences', ascending=False).head(60)"
   ]
  },
  {
   "cell_type": "code",
   "execution_count": null,
   "id": "1b1e471b",
   "metadata": {},
   "outputs": [],
   "source": [
    "#%%\n",
    "#now, convert to a more useful ranking system, tf-idf weights\n",
    "#TfidfTransformer: scale raw word counts to a weighted ranking using the\n",
    "#https://scikit-learn.org/stable/modules/generated/sklearn.feature_extraction.text.TfidfTransformer.html\n",
    "tweetTransformer = TfidfTransformer()"
   ]
  },
  {
   "cell_type": "code",
   "execution_count": null,
   "id": "c47355f6",
   "metadata": {},
   "outputs": [],
   "source": [
    "#initial fit representation using transformer object\n",
    "tweetWeights = tweetTransformer.fit_transform(countVec_count)"
   ]
  },
  {
   "cell_type": "code",
   "execution_count": null,
   "id": "d93aa0cf",
   "metadata": {},
   "outputs": [],
   "source": [
    "#follow similar process to making new data frame with word occurrences, but with term weights\n",
    "tweetWeightsFin = np.asarray(tweetWeights.mean(axis=0)).ravel().tolist()"
   ]
  },
  {
   "cell_type": "code",
   "execution_count": null,
   "id": "951eff76",
   "metadata": {},
   "outputs": [],
   "source": [
    "#now that we've done Tfid, make a dataframe with weights and names\n",
    "tweetWeightFrame = pd.DataFrame({'term': countVec.get_feature_names_out(), 'weight': tweetWeightsFin})\n",
    "print(tweetWeightFrame)\n",
    "tweetWeightFrame.sort_values(by='weight', ascending=False).head(20)   "
   ]
  },
  {
   "cell_type": "code",
   "execution_count": null,
   "id": "e990c702",
   "metadata": {},
   "outputs": [],
   "source": [
    "\n",
    "\n",
    "\n",
    "\n",
    "\n",
    "\n",
    "\n",
    "\n",
    "\n",
    "\n",
    "\n",
    "\n",
    "\n",
    "\n",
    "\n",
    "\n",
    " "
   ]
  }
 ],
 "metadata": {
  "kernelspec": {
   "display_name": "Python 3 (ipykernel)",
   "language": "python",
   "name": "python3"
  },
  "language_info": {
   "codemirror_mode": {
    "name": "ipython",
    "version": 3
   },
   "file_extension": ".py",
   "mimetype": "text/x-python",
   "name": "python",
   "nbconvert_exporter": "python",
   "pygments_lexer": "ipython3",
   "version": "3.9.13"
  }
 },
 "nbformat": 4,
 "nbformat_minor": 5
}
